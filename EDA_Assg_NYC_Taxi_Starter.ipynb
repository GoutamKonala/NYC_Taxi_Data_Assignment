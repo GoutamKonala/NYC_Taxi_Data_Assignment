{
 "cells": [
  {
   "cell_type": "markdown",
   "metadata": {
    "id": "ZQl5n2IOuafL"
   },
   "source": [
    "# **New York City Yellow Taxi Data**"
   ]
  },
  {
   "cell_type": "markdown",
   "metadata": {
    "id": "DGQVIB4mEFrZ"
   },
   "source": [
    "## Objective\n",
    "In this case study you will be learning exploratory data analysis (EDA) with the help of a dataset on yellow taxi rides in New York City. This will enable you to understand why EDA is an important step in the process of data science and machine learning."
   ]
  },
  {
   "cell_type": "markdown",
   "metadata": {
    "id": "YJVMenVllLUL"
   },
   "source": [
    "## **Problem Statement**\n",
    "As an analyst at an upcoming taxi operation in NYC, you are tasked to use the 2023 taxi trip data to uncover insights that could help optimise taxi operations. The goal is to analyse patterns in the data that can inform strategic decisions to improve service efficiency, maximise revenue, and enhance passenger experience."
   ]
  },
  {
   "cell_type": "markdown",
   "metadata": {
    "id": "-OVfUMlHFkZD"
   },
   "source": [
    "## Tasks\n",
    "You need to perform the following steps for successfully completing this assignment:\n",
    "1. Data Loading\n",
    "2. Data Cleaning\n",
    "3. Exploratory Analysis: Bivariate and Multivariate\n",
    "4. Creating Visualisations to Support the Analysis\n",
    "5. Deriving Insights and Stating Conclusions"
   ]
  },
  {
   "cell_type": "markdown",
   "metadata": {
    "id": "gTxV-3GJUhWm"
   },
   "source": [
    "---"
   ]
  },
  {
   "cell_type": "markdown",
   "metadata": {
    "id": "ofebI8ITG-Li"
   },
   "source": [
    "**NOTE:** The marks given along with headings and sub-headings are cumulative marks for those particular headings/sub-headings.<br>\n",
    "\n",
    "The actual marks for each task are specified within the tasks themselves.\n",
    "\n",
    "For example, marks given with heading *2* or sub-heading *2.1* are the cumulative marks, for your reference only. <br>\n",
    "\n",
    "The marks you will receive for completing tasks are given with the tasks.\n",
    "\n",
    "Suppose the marks for two tasks are: 3 marks for 2.1.1 and 2 marks for 3.2.2, or\n",
    "* 2.1.1 [3 marks]\n",
    "* 3.2.2 [2 marks]\n",
    "\n",
    "then, you will earn 3 marks for completing task 2.1.1 and 2 marks for completing task 3.2.2.\n"
   ]
  },
  {
   "cell_type": "markdown",
   "metadata": {
    "id": "YdQjht7dUiHt"
   },
   "source": [
    "---"
   ]
  },
  {
   "cell_type": "markdown",
   "metadata": {
    "id": "0eaCZjHIvfuI"
   },
   "source": [
    "## Data Understanding\n",
    "The yellow taxi trip records include fields capturing pick-up and drop-off dates/times, pick-up and drop-off locations, trip distances, itemized fares, rate types, payment types, and driver-reported passenger counts.\n",
    "\n",
    "The data is stored in Parquet format (*.parquet*). The dataset is from 2009 to 2024. However, for this assignment, we will only be using the data from 2023.\n",
    "\n",
    "The data for each month is present in a different parquet file. You will get twelve files for each of the months in 2023.\n",
    "\n",
    "The data was collected and provided to the NYC Taxi and Limousine Commission (TLC) by technology providers like vendors and taxi hailing apps. <br>\n",
    "\n",
    "You can find the link to the TLC trip records page here: https://www.nyc.gov/site/tlc/about/tlc-trip-record-data.page"
   ]
  },
  {
   "cell_type": "markdown",
   "metadata": {
    "id": "LI6qC5IDxZU1"
   },
   "source": [
    "###  Data Description\n",
    "You can find the data description here: [Data Dictionary](https://www.nyc.gov/assets/tlc/downloads/pdf/data_dictionary_trip_records_yellow.pdf)"
   ]
  },
  {
   "cell_type": "markdown",
   "metadata": {
    "id": "FafCzrDuxHg2"
   },
   "source": [
    "**Trip Records**\n",
    "\n",
    "\n",
    "\n",
    "|Field Name       |description |\n",
    "|:----------------|:-----------|\n",
    "| VendorID | A code indicating the TPEP provider that provided the record. <br> 1= Creative Mobile Technologies, LLC; <br> 2= VeriFone Inc. |\n",
    "| tpep_pickup_datetime | The date and time when the meter was engaged.  |\n",
    "| tpep_dropoff_datetime | The date and time when the meter was disengaged.   |\n",
    "| Passenger_count | The number of passengers in the vehicle. <br> This is a driver-entered value. |\n",
    "| Trip_distance | The elapsed trip distance in miles reported by the taximeter. |\n",
    "| PULocationID | TLC Taxi Zone in which the taximeter was engaged |\n",
    "| DOLocationID | TLC Taxi Zone in which the taximeter was disengaged |\n",
    "|RateCodeID |The final rate code in effect at the end of the trip.<br> 1 = Standard rate <br> 2 = JFK <br> 3 = Newark <br>4 = Nassau or Westchester <br>5 = Negotiated fare <br>6 = Group ride |\n",
    "|Store_and_fwd_flag |This flag indicates whether the trip record was held in vehicle memory before sending to the vendor, aka “store and forward,” because the vehicle did not have a connection to the server.  <br>Y= store and forward trip <br>N= not a store and forward trip |\n",
    "|Payment_type| A numeric code signifying how the passenger paid for the trip. <br> 1 = Credit card <br>2 = Cash <br>3 = No charge <br>4 = Dispute <br>5 = Unknown <br>6 = Voided trip |\n",
    "|Fare_amount| The time-and-distance fare calculated by the meter. <br>Extra Miscellaneous extras and surcharges.  Currently, this only includes the 0.50 and 1 USD rush hour and overnight charges. |\n",
    "|MTA_tax |0.50 USD MTA tax that is automatically triggered based on the metered rate in use. |\n",
    "|Improvement_surcharge | 0.30 USD improvement surcharge assessed trips at the flag drop. The improvement surcharge began being levied in 2015. |\n",
    "|Tip_amount |Tip amount – This field is automatically populated for credit card tips. Cash tips are not included. |\n",
    "| Tolls_amount | Total amount of all tolls paid in trip.  |\n",
    "| total_amount | The total amount charged to passengers. Does not include cash tips. |\n",
    "|Congestion_Surcharge |Total amount collected in trip for NYS congestion surcharge. |\n",
    "| Airport_fee | 1.25 USD for pick up only at LaGuardia and John F. Kennedy Airports|\n",
    "\n",
    "Although the amounts of extra charges and taxes applied are specified in the data dictionary, you will see that some cases have different values of these charges in the actual data."
   ]
  },
  {
   "cell_type": "markdown",
   "metadata": {
    "id": "mL-FWYFnVEdE"
   },
   "source": [
    "**Taxi Zones**\n",
    "\n",
    "Each of the trip records contains a field corresponding to the location of the pickup or drop-off of the trip, populated by numbers ranging from 1-263.\n",
    "\n",
    "These numbers correspond to taxi zones, which may be downloaded as a table or map/shapefile and matched to the trip records using a join.\n",
    "\n",
    "This is covered in more detail in later sections."
   ]
  },
  {
   "cell_type": "markdown",
   "metadata": {
    "id": "z66W3s51U0gF"
   },
   "source": [
    "---"
   ]
  },
  {
   "cell_type": "markdown",
   "metadata": {
    "id": "Kw-WRzBfyS7j"
   },
   "source": [
    "## **1** Data Preparation\n",
    "\n",
    "<font color = red>[5 marks]</font> <br>"
   ]
  },
  {
   "cell_type": "markdown",
   "metadata": {
    "id": "nM2X-s6lycvQ"
   },
   "source": [
    "### Import Libraries"
   ]
  },
  {
   "cell_type": "code",
   "execution_count": 849,
   "metadata": {
    "id": "juReqsAzEdW3"
   },
   "outputs": [],
   "source": [
    "# Import warnings\n",
    "\n"
   ]
  },
  {
   "cell_type": "code",
   "execution_count": 850,
   "metadata": {
    "id": "3XZjOlJiy1dr"
   },
   "outputs": [],
   "source": [
    "# Import the libraries you will be using for analysis\n",
    "import numpy as np\n",
    "import pandas as pd\n",
    "import matplotlib.pyplot as plt\n",
    "import seaborn as sns\n",
    "import pyarrow"
   ]
  },
  {
   "cell_type": "code",
   "execution_count": 851,
   "metadata": {
    "id": "NsH5LNrSgW9q"
   },
   "outputs": [
    {
     "name": "stdout",
     "output_type": "stream",
     "text": [
      "numpy version: 2.3.1\n",
      "pandas version: 2.3.0\n",
      "matplotlib version: 3.10.3\n",
      "seaborn version: 0.13.2\n"
     ]
    }
   ],
   "source": [
    "# Recommended versions\n",
    "# numpy version: 1.26.4\n",
    "# pandas version: 2.2.2\n",
    "# matplotlib version: 3.10.0\n",
    "# seaborn version: 0.13.2\n",
    "\n",
    "# Check versions\n",
    "print(\"numpy version:\", np.__version__)\n",
    "print(\"pandas version:\", pd.__version__)\n",
    "print(\"matplotlib version:\", plt.matplotlib.__version__)\n",
    "print(\"seaborn version:\", sns.__version__)"
   ]
  },
  {
   "cell_type": "markdown",
   "metadata": {
    "id": "NgHgbPIepaYl"
   },
   "source": [
    "### **1.1** Load the dataset\n",
    "<font color = red>[5 marks]</font> <br>"
   ]
  },
  {
   "cell_type": "markdown",
   "metadata": {
    "id": "KrGluF_gpeHs"
   },
   "source": [
    "You will see twelve files, one for each month.\n",
    "\n",
    "To read parquet files with Pandas, you have to follow a similar syntax as that for CSV files.\n",
    "\n",
    "`df = pd.read_parquet('file.parquet')`"
   ]
  },
  {
   "cell_type": "code",
   "execution_count": 852,
   "metadata": {
    "id": "kIpIsuSSzCp9"
   },
   "outputs": [
    {
     "name": "stdout",
     "output_type": "stream",
     "text": [
      "<class 'pandas.core.frame.DataFrame'>\n",
      "Index: 3041714 entries, 0 to 3066765\n",
      "Data columns (total 19 columns):\n",
      " #   Column                 Dtype         \n",
      "---  ------                 -----         \n",
      " 0   VendorID               int64         \n",
      " 1   tpep_pickup_datetime   datetime64[us]\n",
      " 2   tpep_dropoff_datetime  datetime64[us]\n",
      " 3   passenger_count        float64       \n",
      " 4   trip_distance          float64       \n",
      " 5   RatecodeID             float64       \n",
      " 6   store_and_fwd_flag     object        \n",
      " 7   PULocationID           int64         \n",
      " 8   DOLocationID           int64         \n",
      " 9   payment_type           int64         \n",
      " 10  fare_amount            float64       \n",
      " 11  extra                  float64       \n",
      " 12  mta_tax                float64       \n",
      " 13  tip_amount             float64       \n",
      " 14  tolls_amount           float64       \n",
      " 15  improvement_surcharge  float64       \n",
      " 16  total_amount           float64       \n",
      " 17  congestion_surcharge   float64       \n",
      " 18  airport_fee            float64       \n",
      "dtypes: datetime64[us](2), float64(12), int64(4), object(1)\n",
      "memory usage: 464.1+ MB\n"
     ]
    }
   ],
   "source": [
    "# Try loading one file\n",
    "\n",
    "df = pd.read_parquet('2023-1.parquet')\n",
    "df.info()"
   ]
  },
  {
   "cell_type": "markdown",
   "metadata": {
    "id": "eh-keWIyqcyr"
   },
   "source": [
    "How many rows are there? Do you think handling such a large number of rows is computationally feasible when we have to combine the data for all twelve months into one?\n",
    "\n",
    "To handle this, we need to sample a fraction of data from each of the files. How to go about that? Think of a way to select only some portion of the data from each month's file that accurately represents the trends."
   ]
  },
  {
   "cell_type": "markdown",
   "metadata": {
    "id": "zHx7lh_3QGmj"
   },
   "source": [
    "#### Sampling the Data\n",
    "> One way is to take a small percentage of entries for pickup in every hour of a date. So, for all the days in a month, we can iterate through the hours and select 5% values randomly from those. Use `tpep_pickup_datetime` for this. Separate date and hour from the datetime values and then for each date, select some fraction of trips for each of the 24 hours.\n",
    "\n",
    "To sample data, you can use the `sample()` method. Follow this syntax:\n",
    "\n",
    "```Python\n",
    "# sampled_data is an empty DF to keep appending sampled data of each hour\n",
    "# hour_data is the DF of entries for an hour 'X' on a date 'Y'\n",
    "\n",
    "sample = hour_data.sample(frac = 0.05, random_state = 42)\n",
    "# sample 0.05 of the hour_data\n",
    "# random_state is just a seed for sampling, you can define it yourself\n",
    "\n",
    "sampled_data = pd.concat([sampled_data, sample]) # adding data for this hour to the DF\n",
    "```\n",
    "\n",
    "This *sampled_data* will contain 5% values selected at random from each hour.\n",
    "\n",
    "Note that the code given above is only the part that will be used for sampling and not the complete code required for sampling and combining the data files.\n",
    "\n",
    "Keep in mind that you sample by date AND hour, not just hour. (Why?)"
   ]
  },
  {
   "cell_type": "markdown",
   "metadata": {
    "id": "3zog80nsqvKp"
   },
   "source": [
    "---"
   ]
  },
  {
   "cell_type": "markdown",
   "metadata": {
    "id": "Fp24-wpQrlC5"
   },
   "source": [
    "**1.1.1** <font color = red>[5 marks]</font> <br>\n",
    "Figure out how to sample and combine the files."
   ]
  },
  {
   "cell_type": "markdown",
   "metadata": {
    "id": "vRGOnciGOvq0"
   },
   "source": [
    "**Note:** It is not mandatory to use the method specified above. While sampling, you only need to make sure that your sampled data represents the overall data of all the months accurately."
   ]
  },
  {
   "cell_type": "code",
   "execution_count": 853,
   "metadata": {
    "id": "3cpuzPFvP2iC"
   },
   "outputs": [],
   "source": [
    "# Sample the data\n",
    "# It is recommmended to not load all the files at once to avoid memory overload"
   ]
  },
  {
   "cell_type": "code",
   "execution_count": 854,
   "metadata": {
    "id": "h3x5bCWmarTO"
   },
   "outputs": [],
   "source": [
    "# from google.colab import drive\n",
    "# drive.mount('/content/drive')"
   ]
  },
  {
   "cell_type": "code",
   "execution_count": 855,
   "metadata": {
    "id": "t1EXP0PHzPs0"
   },
   "outputs": [
    {
     "name": "stdout",
     "output_type": "stream",
     "text": [
      "Sampling 2023-1.parquet … kept 30,416 rows\n",
      "Sampling 2023-10.parquet … kept 34,854 rows\n",
      "Sampling 2023-11.parquet … kept 33,032 rows\n",
      "Sampling 2023-12.parquet … kept 33,330 rows\n",
      "Sampling 2023-2.parquet … kept 33,722 rows\n",
      "Sampling 2023-3.parquet … kept 32,745 rows\n",
      "Sampling 2023-4.parquet … kept 27,936 rows\n",
      "Sampling 2023-5.parquet … kept 28,886 rows\n",
      "Sampling 2023-6.parquet … kept 32,584 rows\n",
      "Sampling 2023-7.parquet … kept 34,816 rows\n",
      "Sampling 2023-8.parquet … kept 28,759 rows\n",
      "Sampling 2023-9.parquet … kept 28,188 rows\n",
      "\n",
      "Done! Final sampled DataFrame shape: (379268, 20)\n"
     ]
    }
   ],
   "source": [
    "# Take a small percentage of entries from each hour of every date.\n",
    "# Iterating through the monthly data:\n",
    "#   read a month file -> day -> hour: append sampled data -> move to next hour -> move to next day after 24 hours -> move to next month file\n",
    "# Create a single dataframe for the year combining all the monthly data\n",
    "\n",
    "# Select the folder having data files\n",
    "import os\n",
    "\n",
    "# Select the folder having data files\n",
    "os.chdir('C:/Users/gouta/VSCprojects/Assignment1_NYC_Yellow_Taxi_Data/All_Data')\n",
    "\n",
    "# Create a list of all the twelve files to read\n",
    "file_list = sorted([f for f in os.listdir() \n",
    "                    if f.startswith('2023-') and f.endswith('.parquet')])\n",
    "\n",
    "# initialise an empty dataframe\n",
    "df = pd.DataFrame()                # final year-wide sample goes here\n",
    "SAMPLE_FRAC   = 0.01               # 1 %\n",
    "RANDOM_STATE  = 42\n",
    "\n",
    "\n",
    "# iterate through the list of files and sample one by one:\n",
    "for file_name in file_list:\n",
    "    try:\n",
    "        # file path for the current file\n",
    "        file_path = os.path.join(os.getcwd(), file_name)\n",
    "        print(f\"Sampling {file_name:>12} … \", end='')\n",
    "\n",
    "        # Reading the current file\n",
    "\n",
    "        # read current month\n",
    "        month_df = pd.read_parquet(file_path)\n",
    "\n",
    "        # helper cols for date & hour (added in-place, so cheap)\n",
    "        dt                = pd.to_datetime(month_df['tpep_pickup_datetime'])\n",
    "        month_df['__date'] = dt.dt.date\n",
    "        month_df['__hour'] = dt.dt.hour\n",
    "\n",
    "        # We will store the sampled data for the current date in this df by appending the sampled data from each hour to this\n",
    "        # After completing iteration through each date, we will append this data to the final dataframe.\n",
    "        sampled_data = pd.DataFrame()\n",
    "\n",
    "        # Loop through dates and then loop through every hour of each date\n",
    "        for d in month_df['__date'].unique():\n",
    "            day_slice = month_df[month_df['__date'] == d]\n",
    "\n",
    "            # Iterate through each hour of the selected date\n",
    "            for h in range(24):\n",
    "                hour_slice = day_slice[day_slice['__hour'] == h]\n",
    "                if hour_slice.empty:\n",
    "                    continue      # no trips that hour → skip\n",
    "\n",
    "                # Sample 1% of the hourly data randomly\n",
    "                sample = hour_slice.sample(frac=SAMPLE_FRAC,\n",
    "                                           random_state=RANDOM_STATE)\n",
    "                # add data of this hour to the dataframe\n",
    "                sampled_data = pd.concat([sampled_data, sample],\n",
    "                                         ignore_index=True)\n",
    "\n",
    "        # Concatenate the sampled data of all the dates to a single dataframe\n",
    "        df = pd.concat([df, sampled_data], ignore_index=True)\n",
    "        print(f\"kept {len(sampled_data):,} rows\")\n",
    "\n",
    "    except Exception as e:\n",
    "        print(f\"Error reading file {file_name}: {e}\")\n",
    "\n",
    "# Drop helper columns and show result\n",
    "df = df.drop(columns=['__date', '__hour'])\n",
    "print(\"\\nDone! Final sampled DataFrame shape:\", df.shape)"
   ]
  },
  {
   "cell_type": "markdown",
   "metadata": {
    "id": "Sej6pZkzw2AK"
   },
   "source": [
    "After combining the data files into one DataFrame, convert the new DataFrame to a CSV or parquet file and store it to use directly.\n",
    "\n",
    "Ideally, you can try keeping the total entries to around 250,000 to 300,000."
   ]
  },
  {
   "cell_type": "code",
   "execution_count": 856,
   "metadata": {
    "id": "okaVAsdPxJow"
   },
   "outputs": [],
   "source": [
    "# Store the df in csv/parquet\n",
    "df.to_csv('nyc_taxi_2023_sample_379k.csv')"
   ]
  },
  {
   "cell_type": "markdown",
   "metadata": {
    "id": "QaOS3H9izZ0N"
   },
   "source": [
    "## **2** Data Cleaning\n",
    "<font color = red>[30 marks]</font> <br>"
   ]
  },
  {
   "cell_type": "markdown",
   "metadata": {
    "id": "5y3PKWqhxRA9"
   },
   "source": [
    "Now we can load the new data directly."
   ]
  },
  {
   "cell_type": "code",
   "execution_count": 948,
   "metadata": {
    "id": "FOuOL0SDxQHd"
   },
   "outputs": [],
   "source": [
    "# Load the new data file\n",
    "df = pd.read_csv(\n",
    "        \"nyc_taxi_2023_sample_379k.csv\",\n",
    "        parse_dates=[\"tpep_pickup_datetime\", \"tpep_dropoff_datetime\"]\n",
    "     )\n"
   ]
  },
  {
   "cell_type": "code",
   "execution_count": 949,
   "metadata": {
    "id": "fbzmFKyn1780"
   },
   "outputs": [
    {
     "data": {
      "text/html": [
       "<div>\n",
       "<style scoped>\n",
       "    .dataframe tbody tr th:only-of-type {\n",
       "        vertical-align: middle;\n",
       "    }\n",
       "\n",
       "    .dataframe tbody tr th {\n",
       "        vertical-align: top;\n",
       "    }\n",
       "\n",
       "    .dataframe thead th {\n",
       "        text-align: right;\n",
       "    }\n",
       "</style>\n",
       "<table border=\"1\" class=\"dataframe\">\n",
       "  <thead>\n",
       "    <tr style=\"text-align: right;\">\n",
       "      <th></th>\n",
       "      <th>Unnamed: 0</th>\n",
       "      <th>VendorID</th>\n",
       "      <th>tpep_pickup_datetime</th>\n",
       "      <th>tpep_dropoff_datetime</th>\n",
       "      <th>passenger_count</th>\n",
       "      <th>trip_distance</th>\n",
       "      <th>RatecodeID</th>\n",
       "      <th>store_and_fwd_flag</th>\n",
       "      <th>PULocationID</th>\n",
       "      <th>DOLocationID</th>\n",
       "      <th>...</th>\n",
       "      <th>fare_amount</th>\n",
       "      <th>extra</th>\n",
       "      <th>mta_tax</th>\n",
       "      <th>tip_amount</th>\n",
       "      <th>tolls_amount</th>\n",
       "      <th>improvement_surcharge</th>\n",
       "      <th>total_amount</th>\n",
       "      <th>congestion_surcharge</th>\n",
       "      <th>airport_fee</th>\n",
       "      <th>Airport_fee</th>\n",
       "    </tr>\n",
       "  </thead>\n",
       "  <tbody>\n",
       "    <tr>\n",
       "      <th>0</th>\n",
       "      <td>0</td>\n",
       "      <td>2</td>\n",
       "      <td>2023-01-01 00:07:18</td>\n",
       "      <td>2023-01-01 00:23:15</td>\n",
       "      <td>1.0</td>\n",
       "      <td>7.74</td>\n",
       "      <td>1.0</td>\n",
       "      <td>N</td>\n",
       "      <td>138</td>\n",
       "      <td>256</td>\n",
       "      <td>...</td>\n",
       "      <td>32.40</td>\n",
       "      <td>6.0</td>\n",
       "      <td>0.5</td>\n",
       "      <td>0.00</td>\n",
       "      <td>0.0</td>\n",
       "      <td>1.0</td>\n",
       "      <td>41.15</td>\n",
       "      <td>0.0</td>\n",
       "      <td>1.25</td>\n",
       "      <td>NaN</td>\n",
       "    </tr>\n",
       "    <tr>\n",
       "      <th>1</th>\n",
       "      <td>1</td>\n",
       "      <td>2</td>\n",
       "      <td>2023-01-01 00:16:41</td>\n",
       "      <td>2023-01-01 00:21:46</td>\n",
       "      <td>2.0</td>\n",
       "      <td>1.24</td>\n",
       "      <td>1.0</td>\n",
       "      <td>N</td>\n",
       "      <td>161</td>\n",
       "      <td>237</td>\n",
       "      <td>...</td>\n",
       "      <td>7.90</td>\n",
       "      <td>1.0</td>\n",
       "      <td>0.5</td>\n",
       "      <td>2.58</td>\n",
       "      <td>0.0</td>\n",
       "      <td>1.0</td>\n",
       "      <td>15.48</td>\n",
       "      <td>2.5</td>\n",
       "      <td>0.00</td>\n",
       "      <td>NaN</td>\n",
       "    </tr>\n",
       "    <tr>\n",
       "      <th>2</th>\n",
       "      <td>2</td>\n",
       "      <td>2</td>\n",
       "      <td>2023-01-01 00:14:03</td>\n",
       "      <td>2023-01-01 00:24:36</td>\n",
       "      <td>3.0</td>\n",
       "      <td>1.44</td>\n",
       "      <td>1.0</td>\n",
       "      <td>N</td>\n",
       "      <td>237</td>\n",
       "      <td>141</td>\n",
       "      <td>...</td>\n",
       "      <td>11.40</td>\n",
       "      <td>1.0</td>\n",
       "      <td>0.5</td>\n",
       "      <td>0.00</td>\n",
       "      <td>0.0</td>\n",
       "      <td>1.0</td>\n",
       "      <td>16.40</td>\n",
       "      <td>2.5</td>\n",
       "      <td>0.00</td>\n",
       "      <td>NaN</td>\n",
       "    </tr>\n",
       "    <tr>\n",
       "      <th>3</th>\n",
       "      <td>3</td>\n",
       "      <td>2</td>\n",
       "      <td>2023-01-01 00:24:30</td>\n",
       "      <td>2023-01-01 00:29:55</td>\n",
       "      <td>1.0</td>\n",
       "      <td>0.54</td>\n",
       "      <td>1.0</td>\n",
       "      <td>N</td>\n",
       "      <td>143</td>\n",
       "      <td>142</td>\n",
       "      <td>...</td>\n",
       "      <td>6.50</td>\n",
       "      <td>1.0</td>\n",
       "      <td>0.5</td>\n",
       "      <td>0.00</td>\n",
       "      <td>0.0</td>\n",
       "      <td>1.0</td>\n",
       "      <td>11.50</td>\n",
       "      <td>2.5</td>\n",
       "      <td>0.00</td>\n",
       "      <td>NaN</td>\n",
       "    </tr>\n",
       "    <tr>\n",
       "      <th>4</th>\n",
       "      <td>4</td>\n",
       "      <td>2</td>\n",
       "      <td>2023-01-01 00:43:00</td>\n",
       "      <td>2023-01-01 01:01:00</td>\n",
       "      <td>NaN</td>\n",
       "      <td>19.24</td>\n",
       "      <td>NaN</td>\n",
       "      <td>NaN</td>\n",
       "      <td>66</td>\n",
       "      <td>107</td>\n",
       "      <td>...</td>\n",
       "      <td>25.64</td>\n",
       "      <td>0.0</td>\n",
       "      <td>0.5</td>\n",
       "      <td>5.93</td>\n",
       "      <td>0.0</td>\n",
       "      <td>1.0</td>\n",
       "      <td>35.57</td>\n",
       "      <td>NaN</td>\n",
       "      <td>NaN</td>\n",
       "      <td>NaN</td>\n",
       "    </tr>\n",
       "  </tbody>\n",
       "</table>\n",
       "<p>5 rows × 21 columns</p>\n",
       "</div>"
      ],
      "text/plain": [
       "   Unnamed: 0  VendorID tpep_pickup_datetime tpep_dropoff_datetime  \\\n",
       "0           0         2  2023-01-01 00:07:18   2023-01-01 00:23:15   \n",
       "1           1         2  2023-01-01 00:16:41   2023-01-01 00:21:46   \n",
       "2           2         2  2023-01-01 00:14:03   2023-01-01 00:24:36   \n",
       "3           3         2  2023-01-01 00:24:30   2023-01-01 00:29:55   \n",
       "4           4         2  2023-01-01 00:43:00   2023-01-01 01:01:00   \n",
       "\n",
       "   passenger_count  trip_distance  RatecodeID store_and_fwd_flag  \\\n",
       "0              1.0           7.74         1.0                  N   \n",
       "1              2.0           1.24         1.0                  N   \n",
       "2              3.0           1.44         1.0                  N   \n",
       "3              1.0           0.54         1.0                  N   \n",
       "4              NaN          19.24         NaN                NaN   \n",
       "\n",
       "   PULocationID  DOLocationID  ...  fare_amount  extra  mta_tax  tip_amount  \\\n",
       "0           138           256  ...        32.40    6.0      0.5        0.00   \n",
       "1           161           237  ...         7.90    1.0      0.5        2.58   \n",
       "2           237           141  ...        11.40    1.0      0.5        0.00   \n",
       "3           143           142  ...         6.50    1.0      0.5        0.00   \n",
       "4            66           107  ...        25.64    0.0      0.5        5.93   \n",
       "\n",
       "   tolls_amount  improvement_surcharge  total_amount  congestion_surcharge  \\\n",
       "0           0.0                    1.0         41.15                   0.0   \n",
       "1           0.0                    1.0         15.48                   2.5   \n",
       "2           0.0                    1.0         16.40                   2.5   \n",
       "3           0.0                    1.0         11.50                   2.5   \n",
       "4           0.0                    1.0         35.57                   NaN   \n",
       "\n",
       "   airport_fee  Airport_fee  \n",
       "0         1.25          NaN  \n",
       "1         0.00          NaN  \n",
       "2         0.00          NaN  \n",
       "3         0.00          NaN  \n",
       "4          NaN          NaN  \n",
       "\n",
       "[5 rows x 21 columns]"
      ]
     },
     "execution_count": 949,
     "metadata": {},
     "output_type": "execute_result"
    }
   ],
   "source": [
    "df.head()"
   ]
  },
  {
   "cell_type": "code",
   "execution_count": 950,
   "metadata": {
    "id": "FH83U4A49ErC"
   },
   "outputs": [
    {
     "name": "stdout",
     "output_type": "stream",
     "text": [
      "<class 'pandas.core.frame.DataFrame'>\n",
      "RangeIndex: 379268 entries, 0 to 379267\n",
      "Data columns (total 21 columns):\n",
      " #   Column                 Non-Null Count   Dtype         \n",
      "---  ------                 --------------   -----         \n",
      " 0   Unnamed: 0             379268 non-null  int64         \n",
      " 1   VendorID               379268 non-null  int64         \n",
      " 2   tpep_pickup_datetime   379268 non-null  datetime64[ns]\n",
      " 3   tpep_dropoff_datetime  379268 non-null  datetime64[ns]\n",
      " 4   passenger_count        366326 non-null  float64       \n",
      " 5   trip_distance          379268 non-null  float64       \n",
      " 6   RatecodeID             366326 non-null  float64       \n",
      " 7   store_and_fwd_flag     366326 non-null  object        \n",
      " 8   PULocationID           379268 non-null  int64         \n",
      " 9   DOLocationID           379268 non-null  int64         \n",
      " 10  payment_type           379268 non-null  int64         \n",
      " 11  fare_amount            379268 non-null  float64       \n",
      " 12  extra                  379268 non-null  float64       \n",
      " 13  mta_tax                379268 non-null  float64       \n",
      " 14  tip_amount             379268 non-null  float64       \n",
      " 15  tolls_amount           379268 non-null  float64       \n",
      " 16  improvement_surcharge  379268 non-null  float64       \n",
      " 17  total_amount           379268 non-null  float64       \n",
      " 18  congestion_surcharge   366326 non-null  float64       \n",
      " 19  airport_fee            29673 non-null   float64       \n",
      " 20  Airport_fee            336653 non-null  float64       \n",
      "dtypes: datetime64[ns](2), float64(13), int64(5), object(1)\n",
      "memory usage: 60.8+ MB\n"
     ]
    }
   ],
   "source": [
    "df.info()"
   ]
  },
  {
   "cell_type": "markdown",
   "metadata": {
    "id": "HZvPSwJx0S3K"
   },
   "source": [
    "#### **2.1** Fixing Columns\n",
    "<font color = red>[10 marks]</font> <br>\n",
    "\n",
    "Fix/drop any columns as you seem necessary in the below sections"
   ]
  },
  {
   "cell_type": "markdown",
   "metadata": {
    "id": "358takCd2FiM"
   },
   "source": [
    "**2.1.1** <font color = red>[2 marks]</font> <br>\n",
    "\n",
    "Fix the index and drop unnecessary columns"
   ]
  },
  {
   "cell_type": "code",
   "execution_count": 951,
   "metadata": {
    "id": "KHHFyZxa2PEM"
   },
   "outputs": [],
   "source": [
    "# Fix the index and drop any columns that are not needed\n",
    "\n",
    "if 'Unnamed: 0' in df.columns:\n",
    "    df = df.drop(columns='Unnamed: 0')\n",
    "\n",
    "df = df.reset_index(drop=True)"
   ]
  },
  {
   "cell_type": "markdown",
   "metadata": {
    "id": "TIFmxvIT2wsn"
   },
   "source": [
    "**2.1.2** <font color = red>[3 marks]</font> <br>\n",
    "There are two airport fee columns. This is possibly an error in naming columns. Let's see whether these can be combined into a single column."
   ]
  },
  {
   "cell_type": "code",
   "execution_count": 952,
   "metadata": {
    "id": "rmtgnb1x6TrV"
   },
   "outputs": [
    {
     "name": "stdout",
     "output_type": "stream",
     "text": [
      "[ 1.25  0.     nan  1.75 -1.75]\n"
     ]
    }
   ],
   "source": [
    "# Combine the two airport fee columns\n",
    "\n",
    "if 'Airport_fee' in df.columns:\n",
    "    if 'airport_fee' in df.columns:\n",
    "        # If both columns exist, fill the gaps in the lowercase one with the capitalised one.\n",
    "        df['airport_fee'] = df['airport_fee'].fillna(df['Airport_fee'])\n",
    "    else:\n",
    "        # If only the capitalised column exists, rename it to lowercase and drop the mixed-case one\n",
    "        df = df.rename(columns={'Airport_fee': 'airport_fee'})\n",
    "\n",
    "    # Drop the redundant mixed-case column (safe even if we just renamed)\n",
    "    df = df.drop(columns='Airport_fee', errors='ignore')\n",
    "\n",
    "    # all distinct values exactly as they appear in the column\n",
    "uniq = df['airport_fee'].unique()\n",
    "print(uniq)\n",
    "\n"
   ]
  },
  {
   "cell_type": "markdown",
   "metadata": {
    "id": "1g4AHG7mOYgP"
   },
   "source": [
    "**2.1.3** <font color = red>[5 marks]</font> <br>\n",
    "Fix columns with negative (monetary) values"
   ]
  },
  {
   "cell_type": "code",
   "execution_count": 953,
   "metadata": {
    "id": "nBsMT2MII1Hv"
   },
   "outputs": [
    {
     "name": "stdout",
     "output_type": "stream",
     "text": [
      "[1.25 0.    nan 1.75]\n"
     ]
    }
   ],
   "source": [
    "# check where values of fare amount are negative\n",
    "df['airport_fee'] = df['airport_fee'].abs()\n",
    "\n",
    "# all distinct values exactly as they appear in the column\n",
    "uniq = df['airport_fee'].unique()\n",
    "print(uniq)\n",
    "\n"
   ]
  },
  {
   "cell_type": "markdown",
   "metadata": {
    "id": "JNKpDtTh8awi"
   },
   "source": [
    "Did you notice something different in the `RatecodeID` column for above records?"
   ]
  },
  {
   "cell_type": "code",
   "execution_count": 954,
   "metadata": {
    "id": "9eVrrj7c3kjq"
   },
   "outputs": [
    {
     "name": "stdout",
     "output_type": "stream",
     "text": [
      "[ 1. nan  2.  5.  3. 99.  4.]\n"
     ]
    }
   ],
   "source": [
    "# Analyse RatecodeID for the negative fare amounts\n",
    "uniq = df['RatecodeID'].unique()\n",
    "print(uniq)\n",
    "\n"
   ]
  },
  {
   "cell_type": "code",
   "execution_count": 955,
   "metadata": {
    "id": "Ruyh2vaCRNxr"
   },
   "outputs": [
    {
     "name": "stdout",
     "output_type": "stream",
     "text": [
      "Columns containing at least one negative value:\n",
      "['extra', 'mta_tax', 'improvement_surcharge', 'total_amount', 'congestion_surcharge']\n",
      "\n",
      "Count of negative values per column:\n",
      "extra                     1\n",
      "mta_tax                  15\n",
      "improvement_surcharge    15\n",
      "total_amount             15\n",
      "congestion_surcharge     10\n",
      "dtype: int64\n"
     ]
    }
   ],
   "source": [
    "# Find which columns have negative values\n",
    "\n",
    "# Checks if columns are numeric\n",
    "num_df = df.select_dtypes(include=[np.number])\n",
    "\n",
    "# Checks if columns have ANY negatives\n",
    "has_neg = (num_df < 0).any()\n",
    "\n",
    "print(\"Columns containing at least one negative value:\")\n",
    "print(has_neg[has_neg].index.tolist())          # list of offending columns\n",
    "\n",
    "# Exact count of negatives in each column \n",
    "neg_counts = (num_df < 0).sum()\n",
    "neg_counts = neg_counts[neg_counts > 0]         # keep only columns with negatives\n",
    "\n",
    "print(\"\\nCount of negative values per column:\")\n",
    "print(neg_counts)\n"
   ]
  },
  {
   "cell_type": "code",
   "execution_count": 956,
   "metadata": {
    "id": "mPehZ6PJg3_J"
   },
   "outputs": [
    {
     "name": "stdout",
     "output_type": "stream",
     "text": [
      "Fixed      1 negative values in 'extra'\n",
      "Fixed     15 negative values in 'mta_tax'\n",
      "Fixed     15 negative values in 'improvement_surcharge'\n",
      "Fixed     15 negative values in 'total_amount'\n",
      "Fixed     10 negative values in 'congestion_surcharge'\n",
      "\n",
      "All numeric columns are now non-negative.\n"
     ]
    }
   ],
   "source": [
    "# fix these negative values\n",
    "# Get all numeric columns\n",
    "num_cols = df.select_dtypes(include=[np.number]).columns\n",
    "\n",
    "# Flip every negative value to positive\n",
    "for col in num_cols:\n",
    "    neg_mask = df[col] < 0          # True where the value is negative\n",
    "    if neg_mask.any():              # skip columns that already have no negatives\n",
    "        df.loc[neg_mask, col] = df.loc[neg_mask, col].abs()\n",
    "        print(f\"Fixed {neg_mask.sum():>6} negative values in '{col}'\")\n",
    "\n",
    "print(\"\\nAll numeric columns are now non-negative.\")\n"
   ]
  },
  {
   "cell_type": "markdown",
   "metadata": {
    "id": "x2hakCCy6wXI"
   },
   "source": [
    "### **2.2** Handling Missing Values\n",
    "<font color = red>[10 marks]</font> <br>"
   ]
  },
  {
   "cell_type": "markdown",
   "metadata": {
    "id": "-K-QNPDVVhzR"
   },
   "source": [
    "**2.2.1**  <font color = red>[2 marks]</font> <br>\n",
    "Find the proportion of missing values in each column\n",
    "\n",
    "\n"
   ]
  },
  {
   "cell_type": "code",
   "execution_count": 957,
   "metadata": {
    "id": "tfTa9cct6Gec"
   },
   "outputs": [
    {
     "name": "stdout",
     "output_type": "stream",
     "text": [
      "store_and_fwd_flag      0.034124\n",
      "RatecodeID              0.034124\n",
      "passenger_count         0.034124\n",
      "airport_fee             0.034124\n",
      "congestion_surcharge    0.034124\n",
      "dtype: float64\n"
     ]
    }
   ],
   "source": [
    "# Find the proportion of missing values in each column\n",
    "missing_share = df.isna().mean().sort_values(ascending=False)\n",
    "print(missing_share.head())     # top columns with most missing data\n",
    "\n"
   ]
  },
  {
   "cell_type": "markdown",
   "metadata": {
    "id": "-UdUl6AL_-E_"
   },
   "source": [
    "**2.2.2**  <font color = red>[3 marks]</font> <br>\n",
    "Handling missing values in `passenger_count`"
   ]
  },
  {
   "cell_type": "code",
   "execution_count": 958,
   "metadata": {
    "id": "JmNmhr4q8Xys"
   },
   "outputs": [
    {
     "name": "stdout",
     "output_type": "stream",
     "text": [
      "Rows with NaN in passenger_count: 12942\n"
     ]
    },
    {
     "data": {
      "text/html": [
       "<div>\n",
       "<style scoped>\n",
       "    .dataframe tbody tr th:only-of-type {\n",
       "        vertical-align: middle;\n",
       "    }\n",
       "\n",
       "    .dataframe tbody tr th {\n",
       "        vertical-align: top;\n",
       "    }\n",
       "\n",
       "    .dataframe thead th {\n",
       "        text-align: right;\n",
       "    }\n",
       "</style>\n",
       "<table border=\"1\" class=\"dataframe\">\n",
       "  <thead>\n",
       "    <tr style=\"text-align: right;\">\n",
       "      <th></th>\n",
       "      <th>VendorID</th>\n",
       "      <th>tpep_pickup_datetime</th>\n",
       "      <th>tpep_dropoff_datetime</th>\n",
       "      <th>passenger_count</th>\n",
       "      <th>trip_distance</th>\n",
       "      <th>RatecodeID</th>\n",
       "      <th>store_and_fwd_flag</th>\n",
       "      <th>PULocationID</th>\n",
       "      <th>DOLocationID</th>\n",
       "      <th>payment_type</th>\n",
       "      <th>fare_amount</th>\n",
       "      <th>extra</th>\n",
       "      <th>mta_tax</th>\n",
       "      <th>tip_amount</th>\n",
       "      <th>tolls_amount</th>\n",
       "      <th>improvement_surcharge</th>\n",
       "      <th>total_amount</th>\n",
       "      <th>congestion_surcharge</th>\n",
       "      <th>airport_fee</th>\n",
       "    </tr>\n",
       "  </thead>\n",
       "  <tbody>\n",
       "    <tr>\n",
       "      <th>4</th>\n",
       "      <td>2</td>\n",
       "      <td>2023-01-01 00:43:00</td>\n",
       "      <td>2023-01-01 01:01:00</td>\n",
       "      <td>NaN</td>\n",
       "      <td>19.24</td>\n",
       "      <td>NaN</td>\n",
       "      <td>NaN</td>\n",
       "      <td>66</td>\n",
       "      <td>107</td>\n",
       "      <td>0</td>\n",
       "      <td>25.64</td>\n",
       "      <td>0.0</td>\n",
       "      <td>0.5</td>\n",
       "      <td>5.93</td>\n",
       "      <td>0.00</td>\n",
       "      <td>1.0</td>\n",
       "      <td>35.57</td>\n",
       "      <td>NaN</td>\n",
       "      <td>NaN</td>\n",
       "    </tr>\n",
       "    <tr>\n",
       "      <th>15</th>\n",
       "      <td>2</td>\n",
       "      <td>2023-01-01 00:41:50</td>\n",
       "      <td>2023-01-01 01:14:50</td>\n",
       "      <td>NaN</td>\n",
       "      <td>10.77</td>\n",
       "      <td>NaN</td>\n",
       "      <td>NaN</td>\n",
       "      <td>151</td>\n",
       "      <td>106</td>\n",
       "      <td>0</td>\n",
       "      <td>45.38</td>\n",
       "      <td>0.0</td>\n",
       "      <td>0.5</td>\n",
       "      <td>11.19</td>\n",
       "      <td>6.55</td>\n",
       "      <td>1.0</td>\n",
       "      <td>67.12</td>\n",
       "      <td>NaN</td>\n",
       "      <td>NaN</td>\n",
       "    </tr>\n",
       "    <tr>\n",
       "      <th>42</th>\n",
       "      <td>2</td>\n",
       "      <td>2023-01-01 00:37:21</td>\n",
       "      <td>2023-01-01 00:54:18</td>\n",
       "      <td>NaN</td>\n",
       "      <td>4.52</td>\n",
       "      <td>NaN</td>\n",
       "      <td>NaN</td>\n",
       "      <td>114</td>\n",
       "      <td>262</td>\n",
       "      <td>0</td>\n",
       "      <td>25.38</td>\n",
       "      <td>0.0</td>\n",
       "      <td>0.5</td>\n",
       "      <td>0.00</td>\n",
       "      <td>0.00</td>\n",
       "      <td>1.0</td>\n",
       "      <td>29.38</td>\n",
       "      <td>NaN</td>\n",
       "      <td>NaN</td>\n",
       "    </tr>\n",
       "    <tr>\n",
       "      <th>43</th>\n",
       "      <td>2</td>\n",
       "      <td>2023-01-01 00:44:03</td>\n",
       "      <td>2023-01-01 01:13:49</td>\n",
       "      <td>NaN</td>\n",
       "      <td>9.19</td>\n",
       "      <td>NaN</td>\n",
       "      <td>NaN</td>\n",
       "      <td>239</td>\n",
       "      <td>256</td>\n",
       "      <td>0</td>\n",
       "      <td>40.00</td>\n",
       "      <td>0.0</td>\n",
       "      <td>0.5</td>\n",
       "      <td>2.20</td>\n",
       "      <td>0.00</td>\n",
       "      <td>1.0</td>\n",
       "      <td>46.20</td>\n",
       "      <td>NaN</td>\n",
       "      <td>NaN</td>\n",
       "    </tr>\n",
       "    <tr>\n",
       "      <th>46</th>\n",
       "      <td>2</td>\n",
       "      <td>2023-01-01 00:50:55</td>\n",
       "      <td>2023-01-01 01:19:06</td>\n",
       "      <td>NaN</td>\n",
       "      <td>2.74</td>\n",
       "      <td>NaN</td>\n",
       "      <td>NaN</td>\n",
       "      <td>90</td>\n",
       "      <td>48</td>\n",
       "      <td>0</td>\n",
       "      <td>18.48</td>\n",
       "      <td>0.0</td>\n",
       "      <td>0.5</td>\n",
       "      <td>3.37</td>\n",
       "      <td>0.00</td>\n",
       "      <td>1.0</td>\n",
       "      <td>25.85</td>\n",
       "      <td>NaN</td>\n",
       "      <td>NaN</td>\n",
       "    </tr>\n",
       "  </tbody>\n",
       "</table>\n",
       "</div>"
      ],
      "text/plain": [
       "    VendorID tpep_pickup_datetime tpep_dropoff_datetime  passenger_count  \\\n",
       "4          2  2023-01-01 00:43:00   2023-01-01 01:01:00              NaN   \n",
       "15         2  2023-01-01 00:41:50   2023-01-01 01:14:50              NaN   \n",
       "42         2  2023-01-01 00:37:21   2023-01-01 00:54:18              NaN   \n",
       "43         2  2023-01-01 00:44:03   2023-01-01 01:13:49              NaN   \n",
       "46         2  2023-01-01 00:50:55   2023-01-01 01:19:06              NaN   \n",
       "\n",
       "    trip_distance  RatecodeID store_and_fwd_flag  PULocationID  DOLocationID  \\\n",
       "4           19.24         NaN                NaN            66           107   \n",
       "15          10.77         NaN                NaN           151           106   \n",
       "42           4.52         NaN                NaN           114           262   \n",
       "43           9.19         NaN                NaN           239           256   \n",
       "46           2.74         NaN                NaN            90            48   \n",
       "\n",
       "    payment_type  fare_amount  extra  mta_tax  tip_amount  tolls_amount  \\\n",
       "4              0        25.64    0.0      0.5        5.93          0.00   \n",
       "15             0        45.38    0.0      0.5       11.19          6.55   \n",
       "42             0        25.38    0.0      0.5        0.00          0.00   \n",
       "43             0        40.00    0.0      0.5        2.20          0.00   \n",
       "46             0        18.48    0.0      0.5        3.37          0.00   \n",
       "\n",
       "    improvement_surcharge  total_amount  congestion_surcharge  airport_fee  \n",
       "4                     1.0         35.57                   NaN          NaN  \n",
       "15                    1.0         67.12                   NaN          NaN  \n",
       "42                    1.0         29.38                   NaN          NaN  \n",
       "43                    1.0         46.20                   NaN          NaN  \n",
       "46                    1.0         25.85                   NaN          NaN  "
      ]
     },
     "metadata": {},
     "output_type": "display_data"
    },
    {
     "name": "stdout",
     "output_type": "stream",
     "text": [
      "\n",
      "Proportion missing: 0.0341236276195197\n",
      "Passenger_count column has no missing values now.\n",
      "\n",
      "Proportion missing: 0.0\n"
     ]
    }
   ],
   "source": [
    "# Display the rows with null values\n",
    "# Impute NaN values in 'passenger_count'\n",
    "missing_pc = df[df['passenger_count'].isna()]\n",
    "print(f\"Rows with NaN in passenger_count: {len(missing_pc)}\")\n",
    "display(missing_pc.head())\n",
    "\n",
    "print(\"\\nProportion missing:\",\n",
    "      df['passenger_count'].isna().mean())\n",
    "\n",
    "mode_val = df['passenger_count'].mode()[0]   # usually 1\n",
    "\n",
    "df['passenger_count'] = df['passenger_count'].fillna(mode_val)\n",
    "\n",
    "assert df['passenger_count'].isna().sum() == 0\n",
    "print(\"Passenger_count column has no missing values now.\")\n",
    "\n",
    "print(\"\\nProportion missing:\",\n",
    "      df['passenger_count'].isna().mean())"
   ]
  },
  {
   "cell_type": "markdown",
   "metadata": {
    "id": "hIPCyR6UCw0c"
   },
   "source": [
    "Did you find zeroes in passenger_count? Handle these."
   ]
  },
  {
   "cell_type": "markdown",
   "metadata": {
    "id": "IUr4fwkjBUTQ"
   },
   "source": [
    "**2.2.3**  <font color = red>[2 marks]</font> <br>\n",
    "Handle missing values in `RatecodeID`"
   ]
  },
  {
   "cell_type": "code",
   "execution_count": 959,
   "metadata": {
    "id": "qEgFxytzBkrB"
   },
   "outputs": [
    {
     "name": "stdout",
     "output_type": "stream",
     "text": [
      "Remaining NaNs: 0\n"
     ]
    }
   ],
   "source": [
    "# Fix missing values in 'RatecodeID'\n",
    "\n",
    "# Felt like adding the airports since those would be easy\n",
    "JFK_ZONES     = {132}        # “JFK Airport”\n",
    "LGA_ZONES     = {138}        # “LaGuardia Airport”\n",
    "EWR_ZONES     = {1}          # “Newark Airport” \n",
    "\n",
    "mask_na = df['RatecodeID'].isna()\n",
    "\n",
    "# JFK or LGA -> 2   \n",
    "mask_jfk = mask_na & (df['PULocationID'].isin(JFK_ZONES | LGA_ZONES) |\n",
    "                      df['DOLocationID'].isin(JFK_ZONES | LGA_ZONES))\n",
    "df.loc[mask_jfk, 'RatecodeID'] = 2\n",
    "\n",
    "# Newark     -> 3\n",
    "mask_ewr = mask_na & (df['PULocationID'].isin(EWR_ZONES) |\n",
    "                      df['DOLocationID'].isin(EWR_ZONES))\n",
    "df.loc[mask_ewr, 'RatecodeID'] = 3\n",
    "\n",
    "# everything still NaN-> default to the 1\n",
    "df['RatecodeID'] = df['RatecodeID'].fillna(df['RatecodeID'].mode()[0])\n",
    "\n",
    "print(\"Remaining NaNs:\", df['RatecodeID'].isna().sum())   \n",
    "\n",
    "\n"
   ]
  },
  {
   "cell_type": "markdown",
   "metadata": {
    "id": "0TjHXzuODCUW"
   },
   "source": [
    "**2.2.4**  <font color = red>[3 marks]</font> <br>\n",
    "Impute NaN in `congestion_surcharge`"
   ]
  },
  {
   "cell_type": "code",
   "execution_count": 960,
   "metadata": {
    "id": "HqnabUGC3xOA"
   },
   "outputs": [
    {
     "name": "stdout",
     "output_type": "stream",
     "text": [
      "NaNs in congestion_surcharge: 12942\n",
      "Missing values imputed with 2.5.\n"
     ]
    }
   ],
   "source": [
    "# handle null values in congestion_surcharge\n",
    "\n",
    "# check how many values are missing\n",
    "print(\"NaNs in congestion_surcharge:\", df['congestion_surcharge'].isna().sum())\n",
    "\n",
    "# fill with most frequent value\n",
    "mode_val = df['congestion_surcharge'].mode()[0]    # returns 0 or 2.5\n",
    "df['congestion_surcharge'] = df['congestion_surcharge'].fillna(mode_val)\n",
    "\n",
    "# verify\n",
    "assert df['congestion_surcharge'].isna().sum() == 0\n",
    "print(f\"Missing values imputed with {mode_val}.\")\n",
    "\n"
   ]
  },
  {
   "cell_type": "markdown",
   "metadata": {
    "id": "4FZEdgAgUbPl"
   },
   "source": [
    "Are there missing values in other columns? Did you find NaN values in some other set of columns? Handle those missing values below."
   ]
  },
  {
   "cell_type": "code",
   "execution_count": 961,
   "metadata": {
    "id": "iDLpyqCRXa3K"
   },
   "outputs": [
    {
     "name": "stdout",
     "output_type": "stream",
     "text": [
      "VendorID                     0\n",
      "tpep_pickup_datetime         0\n",
      "tpep_dropoff_datetime        0\n",
      "passenger_count              0\n",
      "trip_distance                0\n",
      "RatecodeID                   0\n",
      "store_and_fwd_flag       12942\n",
      "PULocationID                 0\n",
      "DOLocationID                 0\n",
      "payment_type                 0\n",
      "fare_amount                  0\n",
      "extra                        0\n",
      "mta_tax                      0\n",
      "tip_amount                   0\n",
      "tolls_amount                 0\n",
      "improvement_surcharge        0\n",
      "total_amount                 0\n",
      "congestion_surcharge         0\n",
      "airport_fee              12942\n",
      "dtype: int64\n",
      "VendorID                 0\n",
      "tpep_pickup_datetime     0\n",
      "tpep_dropoff_datetime    0\n",
      "passenger_count          0\n",
      "trip_distance            0\n",
      "RatecodeID               0\n",
      "store_and_fwd_flag       0\n",
      "PULocationID             0\n",
      "DOLocationID             0\n",
      "payment_type             0\n",
      "fare_amount              0\n",
      "extra                    0\n",
      "mta_tax                  0\n",
      "tip_amount               0\n",
      "tolls_amount             0\n",
      "improvement_surcharge    0\n",
      "total_amount             0\n",
      "congestion_surcharge     0\n",
      "airport_fee              0\n",
      "dtype: int64\n"
     ]
    }
   ],
   "source": [
    "# Handle any remaining missing values\n",
    "\n",
    "#checking what other nulls are left\n",
    "null_counts = df.isna().sum()      # or df.isnull().sum()\n",
    "print(null_counts)\n",
    "\n",
    "# For 'store_and_fwd_flag'\n",
    "# Filling the store_and_fwd_flag column with N in place of Null\n",
    "df['store_and_fwd_flag'] = df['store_and_fwd_flag'].fillna('N')\n",
    "\n",
    "# For 'airport_fee'\n",
    "# Finding airport_fee based on RatecodeID\n",
    "rate_to_fee = {\n",
    "    2: 1.25,   # JFK\n",
    "    3: 1.25,   # Newark\n",
    "}\n",
    "\n",
    "mask_fix = (\n",
    "    df['airport_fee'].isna() &\n",
    "    df['RatecodeID'].isin(rate_to_fee.keys())\n",
    ")\n",
    "\n",
    "# Imputing the correct fee\n",
    "df.loc[mask_fix, 'airport_fee'] = (\n",
    "    df.loc[mask_fix, 'RatecodeID'].map(rate_to_fee)\n",
    ")\n",
    "\n",
    "# Setting remaining NaNs (trips with no surcharge) to 0\n",
    "df['airport_fee'] = df['airport_fee'].fillna(0)\n",
    "\n",
    "null_counts = df.isna().sum()      # or df.isnull().sum()\n",
    "print(null_counts)\n",
    "\n"
   ]
  },
  {
   "cell_type": "markdown",
   "metadata": {
    "id": "2jyQyYIpCztl"
   },
   "source": [
    "### **2.3** Handling Outliers\n",
    "<font color = red>[10 marks]</font> <br>"
   ]
  },
  {
   "cell_type": "markdown",
   "metadata": {
    "id": "ZoVwZzuEMTHB"
   },
   "source": [
    "Before we start fixing outliers, let's perform outlier analysis."
   ]
  },
  {
   "cell_type": "code",
   "execution_count": 962,
   "metadata": {
    "id": "zHK5K6uV8XpU"
   },
   "outputs": [
    {
     "data": {
      "text/html": [
       "<div>\n",
       "<style scoped>\n",
       "    .dataframe tbody tr th:only-of-type {\n",
       "        vertical-align: middle;\n",
       "    }\n",
       "\n",
       "    .dataframe tbody tr th {\n",
       "        vertical-align: top;\n",
       "    }\n",
       "\n",
       "    .dataframe thead th {\n",
       "        text-align: right;\n",
       "    }\n",
       "</style>\n",
       "<table border=\"1\" class=\"dataframe\">\n",
       "  <thead>\n",
       "    <tr style=\"text-align: right;\">\n",
       "      <th></th>\n",
       "      <th>VendorID</th>\n",
       "      <th>tpep_pickup_datetime</th>\n",
       "      <th>tpep_dropoff_datetime</th>\n",
       "      <th>passenger_count</th>\n",
       "      <th>trip_distance</th>\n",
       "      <th>RatecodeID</th>\n",
       "      <th>PULocationID</th>\n",
       "      <th>DOLocationID</th>\n",
       "      <th>payment_type</th>\n",
       "      <th>fare_amount</th>\n",
       "      <th>extra</th>\n",
       "      <th>mta_tax</th>\n",
       "      <th>tip_amount</th>\n",
       "      <th>tolls_amount</th>\n",
       "      <th>improvement_surcharge</th>\n",
       "      <th>total_amount</th>\n",
       "      <th>congestion_surcharge</th>\n",
       "      <th>airport_fee</th>\n",
       "    </tr>\n",
       "  </thead>\n",
       "  <tbody>\n",
       "    <tr>\n",
       "      <th>count</th>\n",
       "      <td>379268.000000</td>\n",
       "      <td>379268</td>\n",
       "      <td>379268</td>\n",
       "      <td>379268.000000</td>\n",
       "      <td>379268.000000</td>\n",
       "      <td>379268.000000</td>\n",
       "      <td>379268.000000</td>\n",
       "      <td>379268.000000</td>\n",
       "      <td>379268.000000</td>\n",
       "      <td>379268.000000</td>\n",
       "      <td>379268.000000</td>\n",
       "      <td>379268.000000</td>\n",
       "      <td>379268.000000</td>\n",
       "      <td>379268.000000</td>\n",
       "      <td>379268.000000</td>\n",
       "      <td>379268.000000</td>\n",
       "      <td>379268.000000</td>\n",
       "      <td>379268.000000</td>\n",
       "    </tr>\n",
       "    <tr>\n",
       "      <th>mean</th>\n",
       "      <td>1.734193</td>\n",
       "      <td>2023-07-02 20:10:08.512407808</td>\n",
       "      <td>2023-07-02 20:27:28.460094464</td>\n",
       "      <td>1.354657</td>\n",
       "      <td>3.611285</td>\n",
       "      <td>1.625547</td>\n",
       "      <td>165.262672</td>\n",
       "      <td>163.989997</td>\n",
       "      <td>1.163394</td>\n",
       "      <td>20.175333</td>\n",
       "      <td>1.582702</td>\n",
       "      <td>0.495393</td>\n",
       "      <td>3.540784</td>\n",
       "      <td>0.589633</td>\n",
       "      <td>0.999056</td>\n",
       "      <td>29.222285</td>\n",
       "      <td>2.315460</td>\n",
       "      <td>0.140393</td>\n",
       "    </tr>\n",
       "    <tr>\n",
       "      <th>min</th>\n",
       "      <td>1.000000</td>\n",
       "      <td>2023-01-01 00:04:34</td>\n",
       "      <td>2023-01-01 00:09:40</td>\n",
       "      <td>0.000000</td>\n",
       "      <td>0.000000</td>\n",
       "      <td>1.000000</td>\n",
       "      <td>1.000000</td>\n",
       "      <td>1.000000</td>\n",
       "      <td>0.000000</td>\n",
       "      <td>0.000000</td>\n",
       "      <td>0.000000</td>\n",
       "      <td>0.000000</td>\n",
       "      <td>0.000000</td>\n",
       "      <td>0.000000</td>\n",
       "      <td>0.000000</td>\n",
       "      <td>0.000000</td>\n",
       "      <td>0.000000</td>\n",
       "      <td>0.000000</td>\n",
       "    </tr>\n",
       "    <tr>\n",
       "      <th>25%</th>\n",
       "      <td>1.000000</td>\n",
       "      <td>2023-04-02 16:26:38.750000128</td>\n",
       "      <td>2023-04-02 16:44:00.249999872</td>\n",
       "      <td>1.000000</td>\n",
       "      <td>1.050000</td>\n",
       "      <td>1.000000</td>\n",
       "      <td>132.000000</td>\n",
       "      <td>113.000000</td>\n",
       "      <td>1.000000</td>\n",
       "      <td>9.300000</td>\n",
       "      <td>0.000000</td>\n",
       "      <td>0.500000</td>\n",
       "      <td>1.000000</td>\n",
       "      <td>0.000000</td>\n",
       "      <td>1.000000</td>\n",
       "      <td>15.960000</td>\n",
       "      <td>2.500000</td>\n",
       "      <td>0.000000</td>\n",
       "    </tr>\n",
       "    <tr>\n",
       "      <th>50%</th>\n",
       "      <td>2.000000</td>\n",
       "      <td>2023-06-27 16:07:21.500000</td>\n",
       "      <td>2023-06-27 16:21:37.500000</td>\n",
       "      <td>1.000000</td>\n",
       "      <td>1.790000</td>\n",
       "      <td>1.000000</td>\n",
       "      <td>162.000000</td>\n",
       "      <td>162.000000</td>\n",
       "      <td>1.000000</td>\n",
       "      <td>13.500000</td>\n",
       "      <td>1.000000</td>\n",
       "      <td>0.500000</td>\n",
       "      <td>2.850000</td>\n",
       "      <td>0.000000</td>\n",
       "      <td>1.000000</td>\n",
       "      <td>21.000000</td>\n",
       "      <td>2.500000</td>\n",
       "      <td>0.000000</td>\n",
       "    </tr>\n",
       "    <tr>\n",
       "      <th>75%</th>\n",
       "      <td>2.000000</td>\n",
       "      <td>2023-10-06 19:39:01</td>\n",
       "      <td>2023-10-06 19:53:23.249999872</td>\n",
       "      <td>1.000000</td>\n",
       "      <td>3.400000</td>\n",
       "      <td>1.000000</td>\n",
       "      <td>234.000000</td>\n",
       "      <td>234.000000</td>\n",
       "      <td>1.000000</td>\n",
       "      <td>21.900000</td>\n",
       "      <td>2.500000</td>\n",
       "      <td>0.500000</td>\n",
       "      <td>4.420000</td>\n",
       "      <td>0.000000</td>\n",
       "      <td>1.000000</td>\n",
       "      <td>30.750000</td>\n",
       "      <td>2.500000</td>\n",
       "      <td>0.000000</td>\n",
       "    </tr>\n",
       "    <tr>\n",
       "      <th>max</th>\n",
       "      <td>6.000000</td>\n",
       "      <td>2023-12-31 23:54:03</td>\n",
       "      <td>2024-01-01 20:14:57</td>\n",
       "      <td>9.000000</td>\n",
       "      <td>22528.820000</td>\n",
       "      <td>99.000000</td>\n",
       "      <td>265.000000</td>\n",
       "      <td>265.000000</td>\n",
       "      <td>4.000000</td>\n",
       "      <td>143163.450000</td>\n",
       "      <td>14.250000</td>\n",
       "      <td>4.000000</td>\n",
       "      <td>150.290000</td>\n",
       "      <td>143.000000</td>\n",
       "      <td>1.000000</td>\n",
       "      <td>143167.450000</td>\n",
       "      <td>2.500000</td>\n",
       "      <td>1.750000</td>\n",
       "    </tr>\n",
       "    <tr>\n",
       "      <th>std</th>\n",
       "      <td>0.447397</td>\n",
       "      <td>NaN</td>\n",
       "      <td>NaN</td>\n",
       "      <td>0.878018</td>\n",
       "      <td>49.391070</td>\n",
       "      <td>7.333454</td>\n",
       "      <td>64.020218</td>\n",
       "      <td>69.772137</td>\n",
       "      <td>0.507365</td>\n",
       "      <td>233.143157</td>\n",
       "      <td>1.821107</td>\n",
       "      <td>0.048212</td>\n",
       "      <td>4.024369</td>\n",
       "      <td>2.175130</td>\n",
       "      <td>0.028366</td>\n",
       "      <td>233.532409</td>\n",
       "      <td>0.653678</td>\n",
       "      <td>0.459503</td>\n",
       "    </tr>\n",
       "  </tbody>\n",
       "</table>\n",
       "</div>"
      ],
      "text/plain": [
       "            VendorID           tpep_pickup_datetime  \\\n",
       "count  379268.000000                         379268   \n",
       "mean        1.734193  2023-07-02 20:10:08.512407808   \n",
       "min         1.000000            2023-01-01 00:04:34   \n",
       "25%         1.000000  2023-04-02 16:26:38.750000128   \n",
       "50%         2.000000     2023-06-27 16:07:21.500000   \n",
       "75%         2.000000            2023-10-06 19:39:01   \n",
       "max         6.000000            2023-12-31 23:54:03   \n",
       "std         0.447397                            NaN   \n",
       "\n",
       "               tpep_dropoff_datetime  passenger_count  trip_distance  \\\n",
       "count                         379268    379268.000000  379268.000000   \n",
       "mean   2023-07-02 20:27:28.460094464         1.354657       3.611285   \n",
       "min              2023-01-01 00:09:40         0.000000       0.000000   \n",
       "25%    2023-04-02 16:44:00.249999872         1.000000       1.050000   \n",
       "50%       2023-06-27 16:21:37.500000         1.000000       1.790000   \n",
       "75%    2023-10-06 19:53:23.249999872         1.000000       3.400000   \n",
       "max              2024-01-01 20:14:57         9.000000   22528.820000   \n",
       "std                              NaN         0.878018      49.391070   \n",
       "\n",
       "          RatecodeID   PULocationID   DOLocationID   payment_type  \\\n",
       "count  379268.000000  379268.000000  379268.000000  379268.000000   \n",
       "mean        1.625547     165.262672     163.989997       1.163394   \n",
       "min         1.000000       1.000000       1.000000       0.000000   \n",
       "25%         1.000000     132.000000     113.000000       1.000000   \n",
       "50%         1.000000     162.000000     162.000000       1.000000   \n",
       "75%         1.000000     234.000000     234.000000       1.000000   \n",
       "max        99.000000     265.000000     265.000000       4.000000   \n",
       "std         7.333454      64.020218      69.772137       0.507365   \n",
       "\n",
       "         fare_amount          extra        mta_tax     tip_amount  \\\n",
       "count  379268.000000  379268.000000  379268.000000  379268.000000   \n",
       "mean       20.175333       1.582702       0.495393       3.540784   \n",
       "min         0.000000       0.000000       0.000000       0.000000   \n",
       "25%         9.300000       0.000000       0.500000       1.000000   \n",
       "50%        13.500000       1.000000       0.500000       2.850000   \n",
       "75%        21.900000       2.500000       0.500000       4.420000   \n",
       "max    143163.450000      14.250000       4.000000     150.290000   \n",
       "std       233.143157       1.821107       0.048212       4.024369   \n",
       "\n",
       "        tolls_amount  improvement_surcharge   total_amount  \\\n",
       "count  379268.000000          379268.000000  379268.000000   \n",
       "mean        0.589633               0.999056      29.222285   \n",
       "min         0.000000               0.000000       0.000000   \n",
       "25%         0.000000               1.000000      15.960000   \n",
       "50%         0.000000               1.000000      21.000000   \n",
       "75%         0.000000               1.000000      30.750000   \n",
       "max       143.000000               1.000000  143167.450000   \n",
       "std         2.175130               0.028366     233.532409   \n",
       "\n",
       "       congestion_surcharge    airport_fee  \n",
       "count         379268.000000  379268.000000  \n",
       "mean               2.315460       0.140393  \n",
       "min                0.000000       0.000000  \n",
       "25%                2.500000       0.000000  \n",
       "50%                2.500000       0.000000  \n",
       "75%                2.500000       0.000000  \n",
       "max                2.500000       1.750000  \n",
       "std                0.653678       0.459503  "
      ]
     },
     "execution_count": 962,
     "metadata": {},
     "output_type": "execute_result"
    }
   ],
   "source": [
    "# Describe the data and check if there are any potential outliers present\n",
    "# Check for potential out of place values in various columns\n",
    "df.describe()\n",
    "\n",
    "\n"
   ]
  },
  {
   "cell_type": "markdown",
   "metadata": {
    "id": "4XDuLkufyJ2g"
   },
   "source": [
    "**2.3.1**  <font color = red>[10 marks]</font> <br>\n",
    "Based on the above analysis, it seems that some of the outliers are present due to errors in registering the trips. Fix the outliers.\n",
    "\n",
    "Some points you can look for:\n",
    "- Entries where `trip_distance` is nearly 0 and `fare_amount` is more than 300\n",
    "- Entries where `trip_distance` and `fare_amount` are 0 but the pickup and dropoff zones are different (both distance and fare should not be zero for different zones)\n",
    "- Entries where `trip_distance` is more than 250  miles.\n",
    "- Entries where `payment_type` is 0 (there is no payment_type 0 defined in the data dictionary)\n",
    "\n",
    "These are just some suggestions. You can handle outliers in any way you wish, using the insights from above outlier analysis."
   ]
  },
  {
   "cell_type": "markdown",
   "metadata": {
    "id": "u-YNHI8tea9c"
   },
   "source": [
    "How will you fix each of these values? Which ones will you drop and which ones will you replace?"
   ]
  },
  {
   "cell_type": "markdown",
   "metadata": {
    "id": "Ap4IfwXO4yZe"
   },
   "source": [
    "First, let us remove 7+ passenger counts as there are very less instances."
   ]
  },
  {
   "cell_type": "code",
   "execution_count": 963,
   "metadata": {
    "id": "XfsOFY5y9-fA"
   },
   "outputs": [],
   "source": [
    "# remove passenger_count > 6\n",
    "df = df[df['passenger_count'] <= 6].reset_index(drop=True)\n"
   ]
  },
  {
   "cell_type": "code",
   "execution_count": 964,
   "metadata": {
    "id": "FCUNe3tu8bie"
   },
   "outputs": [],
   "source": [
    "# Continue with outlier handling\n",
    "\n",
    "# where 'fare_amount is more than 1000\n",
    "df = df[df['fare_amount'] <= 1000].reset_index(drop=True) \n",
    "\n",
    "# where `trip_distance` is nearly 0 and `fare_amount` is more than 300\n",
    "df = df[~((df['trip_distance'] <= 0.1) & (df['fare_amount'] > 300))]\\\n",
    "    .reset_index(drop=True)\n",
    "\n",
    "# where `trip_distance` and `fare_amount` are 0 but the pickup and dropoff zones are different (both distance and fare should not be zero for different zones)\n",
    "df = df[~((df['trip_distance'] == 0) &\n",
    "          (df['fare_amount']   == 0) &\n",
    "          (df['PULocationID'] != df['DOLocationID']))\n",
    "       ].reset_index(drop=True)\n",
    "\n",
    "# where `trip_distance` is more than 250  miles.\n",
    "df = df[df['trip_distance'] <= 250].reset_index(drop=True)\n",
    "\n",
    "# where `payment_type` is 0 (there is no payment_type 0 defined in the data dictionary)\n",
    "df = df[df['payment_type'] != 0].reset_index(drop=True)\n",
    "\n",
    "df.describe()\n",
    "\n",
    "df.to_csv('temp.csv', index=False)"
   ]
  },
  {
   "cell_type": "code",
   "execution_count": 965,
   "metadata": {
    "id": "PuzQXfuT8YKV"
   },
   "outputs": [
    {
     "data": {
      "text/html": [
       "<div>\n",
       "<style scoped>\n",
       "    .dataframe tbody tr th:only-of-type {\n",
       "        vertical-align: middle;\n",
       "    }\n",
       "\n",
       "    .dataframe tbody tr th {\n",
       "        vertical-align: top;\n",
       "    }\n",
       "\n",
       "    .dataframe thead th {\n",
       "        text-align: right;\n",
       "    }\n",
       "</style>\n",
       "<table border=\"1\" class=\"dataframe\">\n",
       "  <thead>\n",
       "    <tr style=\"text-align: right;\">\n",
       "      <th></th>\n",
       "      <th>VendorID</th>\n",
       "      <th>tpep_pickup_datetime</th>\n",
       "      <th>tpep_dropoff_datetime</th>\n",
       "      <th>passenger_count</th>\n",
       "      <th>trip_distance</th>\n",
       "      <th>RatecodeID</th>\n",
       "      <th>PULocationID</th>\n",
       "      <th>DOLocationID</th>\n",
       "      <th>payment_type</th>\n",
       "      <th>fare_amount</th>\n",
       "      <th>...</th>\n",
       "      <th>trip_distance_z</th>\n",
       "      <th>fare_amount_z</th>\n",
       "      <th>tip_amount_z</th>\n",
       "      <th>tolls_amount_z</th>\n",
       "      <th>total_amount_z</th>\n",
       "      <th>extra_z</th>\n",
       "      <th>mta_tax_z</th>\n",
       "      <th>improvement_surcharge_z</th>\n",
       "      <th>congestion_surcharge_z</th>\n",
       "      <th>airport_fee_z</th>\n",
       "    </tr>\n",
       "  </thead>\n",
       "  <tbody>\n",
       "    <tr>\n",
       "      <th>count</th>\n",
       "      <td>366302.000000</td>\n",
       "      <td>366302</td>\n",
       "      <td>366302</td>\n",
       "      <td>366302.000000</td>\n",
       "      <td>366302.000000</td>\n",
       "      <td>366302.000000</td>\n",
       "      <td>366302.000000</td>\n",
       "      <td>366302.000000</td>\n",
       "      <td>366302.000000</td>\n",
       "      <td>366302.000000</td>\n",
       "      <td>...</td>\n",
       "      <td>3.663020e+05</td>\n",
       "      <td>3.663020e+05</td>\n",
       "      <td>3.663020e+05</td>\n",
       "      <td>3.663020e+05</td>\n",
       "      <td>3.663020e+05</td>\n",
       "      <td>3.663020e+05</td>\n",
       "      <td>3.663020e+05</td>\n",
       "      <td>3.663020e+05</td>\n",
       "      <td>3.663020e+05</td>\n",
       "      <td>3.663020e+05</td>\n",
       "    </tr>\n",
       "    <tr>\n",
       "      <th>mean</th>\n",
       "      <td>1.737394</td>\n",
       "      <td>2023-07-01 21:29:21.909009664</td>\n",
       "      <td>2023-07-01 21:46:37.669868032</td>\n",
       "      <td>1.367099</td>\n",
       "      <td>3.433205</td>\n",
       "      <td>1.644228</td>\n",
       "      <td>165.422326</td>\n",
       "      <td>164.254394</td>\n",
       "      <td>1.204457</td>\n",
       "      <td>19.691936</td>\n",
       "      <td>...</td>\n",
       "      <td>9.931638e-18</td>\n",
       "      <td>-4.220946e-17</td>\n",
       "      <td>-3.724364e-18</td>\n",
       "      <td>4.872710e-17</td>\n",
       "      <td>1.042822e-16</td>\n",
       "      <td>-1.191797e-16</td>\n",
       "      <td>3.702639e-16</td>\n",
       "      <td>-2.868692e-15</td>\n",
       "      <td>2.160131e-16</td>\n",
       "      <td>6.952146e-17</td>\n",
       "    </tr>\n",
       "    <tr>\n",
       "      <th>min</th>\n",
       "      <td>1.000000</td>\n",
       "      <td>2023-01-01 00:04:34</td>\n",
       "      <td>2023-01-01 00:09:40</td>\n",
       "      <td>0.000000</td>\n",
       "      <td>0.000000</td>\n",
       "      <td>1.000000</td>\n",
       "      <td>1.000000</td>\n",
       "      <td>1.000000</td>\n",
       "      <td>1.000000</td>\n",
       "      <td>0.000000</td>\n",
       "      <td>...</td>\n",
       "      <td>-7.573861e-01</td>\n",
       "      <td>-1.084662e+00</td>\n",
       "      <td>-8.836651e-01</td>\n",
       "      <td>-2.711318e-01</td>\n",
       "      <td>-1.265532e+00</td>\n",
       "      <td>-8.931756e-01</td>\n",
       "      <td>-1.034902e+01</td>\n",
       "      <td>-4.205771e+01</td>\n",
       "      <td>-3.477355e+00</td>\n",
       "      <td>-3.063510e-01</td>\n",
       "    </tr>\n",
       "    <tr>\n",
       "      <th>25%</th>\n",
       "      <td>1.000000</td>\n",
       "      <td>2023-04-01 20:57:19</td>\n",
       "      <td>2023-04-01 21:08:51</td>\n",
       "      <td>1.000000</td>\n",
       "      <td>1.060000</td>\n",
       "      <td>1.000000</td>\n",
       "      <td>132.000000</td>\n",
       "      <td>114.000000</td>\n",
       "      <td>1.000000</td>\n",
       "      <td>9.300000</td>\n",
       "      <td>...</td>\n",
       "      <td>-5.235436e-01</td>\n",
       "      <td>-5.724039e-01</td>\n",
       "      <td>-6.360105e-01</td>\n",
       "      <td>-2.711318e-01</td>\n",
       "      <td>-5.642289e-01</td>\n",
       "      <td>-8.931756e-01</td>\n",
       "      <td>9.477774e-02</td>\n",
       "      <td>2.747068e-02</td>\n",
       "      <td>2.875741e-01</td>\n",
       "      <td>-3.063510e-01</td>\n",
       "    </tr>\n",
       "    <tr>\n",
       "      <th>50%</th>\n",
       "      <td>2.000000</td>\n",
       "      <td>2023-06-26 08:39:17</td>\n",
       "      <td>2023-06-26 08:53:01.500000</td>\n",
       "      <td>1.000000</td>\n",
       "      <td>1.780000</td>\n",
       "      <td>1.000000</td>\n",
       "      <td>162.000000</td>\n",
       "      <td>162.000000</td>\n",
       "      <td>1.000000</td>\n",
       "      <td>13.500000</td>\n",
       "      <td>...</td>\n",
       "      <td>-3.647071e-01</td>\n",
       "      <td>-3.410614e-01</td>\n",
       "      <td>-1.753729e-01</td>\n",
       "      <td>-2.711318e-01</td>\n",
       "      <td>-3.427647e-01</td>\n",
       "      <td>-3.461375e-01</td>\n",
       "      <td>9.477774e-02</td>\n",
       "      <td>2.747068e-02</td>\n",
       "      <td>2.875741e-01</td>\n",
       "      <td>-3.063510e-01</td>\n",
       "    </tr>\n",
       "    <tr>\n",
       "      <th>75%</th>\n",
       "      <td>2.000000</td>\n",
       "      <td>2023-10-05 19:24:11</td>\n",
       "      <td>2023-10-05 19:39:03.500000</td>\n",
       "      <td>1.000000</td>\n",
       "      <td>3.350000</td>\n",
       "      <td>1.000000</td>\n",
       "      <td>234.000000</td>\n",
       "      <td>234.000000</td>\n",
       "      <td>1.000000</td>\n",
       "      <td>21.900000</td>\n",
       "      <td>...</td>\n",
       "      <td>-1.835548e-02</td>\n",
       "      <td>1.216236e-01</td>\n",
       "      <td>2.109684e-01</td>\n",
       "      <td>-2.711318e-01</td>\n",
       "      <td>7.907196e-02</td>\n",
       "      <td>4.744195e-01</td>\n",
       "      <td>9.477774e-02</td>\n",
       "      <td>2.747068e-02</td>\n",
       "      <td>2.875741e-01</td>\n",
       "      <td>-3.063510e-01</td>\n",
       "    </tr>\n",
       "    <tr>\n",
       "      <th>max</th>\n",
       "      <td>2.000000</td>\n",
       "      <td>2023-12-31 23:54:03</td>\n",
       "      <td>2024-01-01 20:14:57</td>\n",
       "      <td>6.000000</td>\n",
       "      <td>187.350000</td>\n",
       "      <td>99.000000</td>\n",
       "      <td>265.000000</td>\n",
       "      <td>265.000000</td>\n",
       "      <td>4.000000</td>\n",
       "      <td>519.600000</td>\n",
       "      <td>...</td>\n",
       "      <td>4.057318e+01</td>\n",
       "      <td>2.753571e+01</td>\n",
       "      <td>3.633635e+01</td>\n",
       "      <td>6.559080e+01</td>\n",
       "      <td>2.227603e+01</td>\n",
       "      <td>6.902116e+00</td>\n",
       "      <td>7.320137e+01</td>\n",
       "      <td>2.747068e-02</td>\n",
       "      <td>2.875741e-01</td>\n",
       "      <td>3.471708e+00</td>\n",
       "    </tr>\n",
       "    <tr>\n",
       "      <th>std</th>\n",
       "      <td>0.440051</td>\n",
       "      <td>NaN</td>\n",
       "      <td>NaN</td>\n",
       "      <td>0.890479</td>\n",
       "      <td>4.532965</td>\n",
       "      <td>7.459414</td>\n",
       "      <td>63.700987</td>\n",
       "      <td>69.721817</td>\n",
       "      <td>0.465778</td>\n",
       "      <td>18.154900</td>\n",
       "      <td>...</td>\n",
       "      <td>1.000000e+00</td>\n",
       "      <td>1.000000e+00</td>\n",
       "      <td>1.000000e+00</td>\n",
       "      <td>1.000000e+00</td>\n",
       "      <td>1.000000e+00</td>\n",
       "      <td>1.000000e+00</td>\n",
       "      <td>1.000000e+00</td>\n",
       "      <td>1.000000e+00</td>\n",
       "      <td>1.000000e+00</td>\n",
       "      <td>1.000000e+00</td>\n",
       "    </tr>\n",
       "  </tbody>\n",
       "</table>\n",
       "<p>8 rows × 28 columns</p>\n",
       "</div>"
      ],
      "text/plain": [
       "            VendorID           tpep_pickup_datetime  \\\n",
       "count  366302.000000                         366302   \n",
       "mean        1.737394  2023-07-01 21:29:21.909009664   \n",
       "min         1.000000            2023-01-01 00:04:34   \n",
       "25%         1.000000            2023-04-01 20:57:19   \n",
       "50%         2.000000            2023-06-26 08:39:17   \n",
       "75%         2.000000            2023-10-05 19:24:11   \n",
       "max         2.000000            2023-12-31 23:54:03   \n",
       "std         0.440051                            NaN   \n",
       "\n",
       "               tpep_dropoff_datetime  passenger_count  trip_distance  \\\n",
       "count                         366302    366302.000000  366302.000000   \n",
       "mean   2023-07-01 21:46:37.669868032         1.367099       3.433205   \n",
       "min              2023-01-01 00:09:40         0.000000       0.000000   \n",
       "25%              2023-04-01 21:08:51         1.000000       1.060000   \n",
       "50%       2023-06-26 08:53:01.500000         1.000000       1.780000   \n",
       "75%       2023-10-05 19:39:03.500000         1.000000       3.350000   \n",
       "max              2024-01-01 20:14:57         6.000000     187.350000   \n",
       "std                              NaN         0.890479       4.532965   \n",
       "\n",
       "          RatecodeID   PULocationID   DOLocationID   payment_type  \\\n",
       "count  366302.000000  366302.000000  366302.000000  366302.000000   \n",
       "mean        1.644228     165.422326     164.254394       1.204457   \n",
       "min         1.000000       1.000000       1.000000       1.000000   \n",
       "25%         1.000000     132.000000     114.000000       1.000000   \n",
       "50%         1.000000     162.000000     162.000000       1.000000   \n",
       "75%         1.000000     234.000000     234.000000       1.000000   \n",
       "max        99.000000     265.000000     265.000000       4.000000   \n",
       "std         7.459414      63.700987      69.721817       0.465778   \n",
       "\n",
       "         fare_amount  ...  trip_distance_z  fare_amount_z  tip_amount_z  \\\n",
       "count  366302.000000  ...     3.663020e+05   3.663020e+05  3.663020e+05   \n",
       "mean       19.691936  ...     9.931638e-18  -4.220946e-17 -3.724364e-18   \n",
       "min         0.000000  ...    -7.573861e-01  -1.084662e+00 -8.836651e-01   \n",
       "25%         9.300000  ...    -5.235436e-01  -5.724039e-01 -6.360105e-01   \n",
       "50%        13.500000  ...    -3.647071e-01  -3.410614e-01 -1.753729e-01   \n",
       "75%        21.900000  ...    -1.835548e-02   1.216236e-01  2.109684e-01   \n",
       "max       519.600000  ...     4.057318e+01   2.753571e+01  3.633635e+01   \n",
       "std        18.154900  ...     1.000000e+00   1.000000e+00  1.000000e+00   \n",
       "\n",
       "       tolls_amount_z  total_amount_z       extra_z     mta_tax_z  \\\n",
       "count    3.663020e+05    3.663020e+05  3.663020e+05  3.663020e+05   \n",
       "mean     4.872710e-17    1.042822e-16 -1.191797e-16  3.702639e-16   \n",
       "min     -2.711318e-01   -1.265532e+00 -8.931756e-01 -1.034902e+01   \n",
       "25%     -2.711318e-01   -5.642289e-01 -8.931756e-01  9.477774e-02   \n",
       "50%     -2.711318e-01   -3.427647e-01 -3.461375e-01  9.477774e-02   \n",
       "75%     -2.711318e-01    7.907196e-02  4.744195e-01  9.477774e-02   \n",
       "max      6.559080e+01    2.227603e+01  6.902116e+00  7.320137e+01   \n",
       "std      1.000000e+00    1.000000e+00  1.000000e+00  1.000000e+00   \n",
       "\n",
       "       improvement_surcharge_z  congestion_surcharge_z  airport_fee_z  \n",
       "count             3.663020e+05            3.663020e+05   3.663020e+05  \n",
       "mean             -2.868692e-15            2.160131e-16   6.952146e-17  \n",
       "min              -4.205771e+01           -3.477355e+00  -3.063510e-01  \n",
       "25%               2.747068e-02            2.875741e-01  -3.063510e-01  \n",
       "50%               2.747068e-02            2.875741e-01  -3.063510e-01  \n",
       "75%               2.747068e-02            2.875741e-01  -3.063510e-01  \n",
       "max               2.747068e-02            2.875741e-01   3.471708e+00  \n",
       "std               1.000000e+00            1.000000e+00   1.000000e+00  \n",
       "\n",
       "[8 rows x 28 columns]"
      ]
     },
     "execution_count": 965,
     "metadata": {},
     "output_type": "execute_result"
    }
   ],
   "source": [
    "# Do any columns need standardising?\n",
    "\n",
    "num_cols_to_scale = [\n",
    "    'trip_distance', 'fare_amount', 'tip_amount', 'tolls_amount',\n",
    "    'total_amount', 'extra', 'mta_tax', 'improvement_surcharge',\n",
    "    'congestion_surcharge', 'airport_fee'\n",
    "]\n",
    "\n",
    "for col in num_cols_to_scale:\n",
    "    mu  = df[col].mean()\n",
    "    std = df[col].std()\n",
    "    df[col + '_z'] = (df[col] - mu) / std        # keep a new “_z” column\n",
    "\n",
    "df.describe()\n",
    "#df.to_csv('temp.csv', index=False)"
   ]
  },
  {
   "cell_type": "markdown",
   "metadata": {
    "id": "gPpJyFFNffcL"
   },
   "source": [
    "## **3** Exploratory Data Analysis\n",
    "<font color = red>[90 marks]</font> <br>"
   ]
  },
  {
   "cell_type": "code",
   "execution_count": 966,
   "metadata": {
    "id": "cl-0PcYTfkqh"
   },
   "outputs": [
    {
     "data": {
      "text/plain": [
       "['VendorID',\n",
       " 'tpep_pickup_datetime',\n",
       " 'tpep_dropoff_datetime',\n",
       " 'passenger_count',\n",
       " 'trip_distance',\n",
       " 'RatecodeID',\n",
       " 'store_and_fwd_flag',\n",
       " 'PULocationID',\n",
       " 'DOLocationID',\n",
       " 'payment_type',\n",
       " 'fare_amount',\n",
       " 'extra',\n",
       " 'mta_tax',\n",
       " 'tip_amount',\n",
       " 'tolls_amount',\n",
       " 'improvement_surcharge',\n",
       " 'total_amount',\n",
       " 'congestion_surcharge',\n",
       " 'airport_fee',\n",
       " 'trip_distance_z',\n",
       " 'fare_amount_z',\n",
       " 'tip_amount_z',\n",
       " 'tolls_amount_z',\n",
       " 'total_amount_z',\n",
       " 'extra_z',\n",
       " 'mta_tax_z',\n",
       " 'improvement_surcharge_z',\n",
       " 'congestion_surcharge_z',\n",
       " 'airport_fee_z']"
      ]
     },
     "execution_count": 966,
     "metadata": {},
     "output_type": "execute_result"
    }
   ],
   "source": [
    "df.columns.tolist()"
   ]
  },
  {
   "cell_type": "markdown",
   "metadata": {
    "id": "a4N3PvkSTwcN"
   },
   "source": [
    "#### **3.1** General EDA: Finding Patterns and Trends\n",
    "<font color = red>[40 marks]</font> <br>"
   ]
  },
  {
   "cell_type": "markdown",
   "metadata": {
    "id": "9hwonDfZTJO6"
   },
   "source": [
    "**3.1.1** <font color = red>[3 marks]</font> <br>\n",
    "Categorise the varaibles into Numerical or Categorical.\n",
    "* `VendorID`: Categorical\n",
    "* `tpep_pickup_datetime`: Numerical\n",
    "* `tpep_dropoff_datetime`: Numerical\n",
    "* `passenger_count`: Numerical\n",
    "* `trip_distance`: Numerical\n",
    "* `RatecodeID`: Categorical\n",
    "* `PULocationID`: Categorical\n",
    "* `DOLocationID`: Categorical\n",
    "* `payment_type`: Categorical\n",
    "* `pickup_hour`: Numerical\n",
    "* `trip_duration`: Numerical\n",
    "\n",
    "\n",
    "The following monetary parameters belong in the same category, is it categorical or numerical?\n",
    "\n",
    "Ans. These are **Numerical Parameters**\n",
    "\n",
    "* `fare_amount`\n",
    "* `extra`\n",
    "* `mta_tax`\n",
    "* `tip_amount`\n",
    "* `tolls_amount`\n",
    "* `improvement_surcharge`\n",
    "* `total_amount`\n",
    "* `congestion_surcharge`\n",
    "* `airport_fee`"
   ]
  },
  {
   "cell_type": "markdown",
   "metadata": {
    "id": "MbGMjArkiXjL"
   },
   "source": [
    "##### Temporal Analysis"
   ]
  },
  {
   "cell_type": "markdown",
   "metadata": {
    "id": "ZCCbmQ49s2qj"
   },
   "source": [
    "**3.1.2** <font color = red>[5 marks]</font> <br>\n",
    "Analyse the distribution of taxi pickups by hours, days of the week, and months."
   ]
  },
  {
   "cell_type": "code",
   "execution_count": 967,
   "metadata": {
    "id": "RwgWN_MWg0Au"
   },
   "outputs": [
    {
     "data": {
      "image/png": "[encoded data removed]",
      "text/plain": [
       "<Figure size 640x480 with 1 Axes>"
      ]
     },
     "metadata": {},
     "output_type": "display_data"
    },
    {
     "name": "stdout",
     "output_type": "stream",
     "text": [
      "pickup_hour\n",
      "0     1024300.0\n",
      "1      682700.0\n",
      "2      450200.0\n",
      "3      292600.0\n",
      "4      189200.0\n",
      "5      197300.0\n",
      "6      483500.0\n",
      "7      981400.0\n",
      "8     1364200.0\n",
      "9     1565500.0\n",
      "10    1713500.0\n",
      "11    1861600.0\n",
      "12    2019500.0\n",
      "13    2087300.0\n",
      "14    2231700.0\n",
      "15    2288300.0\n",
      "16    2285800.0\n",
      "17    2472800.0\n",
      "18    2583700.0\n",
      "19    2318700.0\n",
      "20    2071600.0\n",
      "21    2062500.0\n",
      "22    1904800.0\n",
      "23    1497500.0\n",
      "Name: weight, dtype: float64\n"
     ]
    }
   ],
   "source": [
    "# Making sure the datetime columns are in the correct format\n",
    "df['tpep_pickup_datetime'] = pd.to_datetime(df['tpep_pickup_datetime'], errors='coerce')\n",
    "df['tpep_dropoff_datetime'] = pd.to_datetime(df['tpep_dropoff_datetime'], errors='coerce')\n",
    "\n",
    "df[\"weight\"] = 1 / SAMPLE_FRAC                      # Weighting the counts by the sampling fraction\n",
    "\n",
    "# Find and show the hourly trends in taxi pickups\n",
    "\n",
    "df['pickup_hour'] = df['tpep_pickup_datetime'].dt.hour      # Separating the hour from the pickup datetime\n",
    "\n",
    "hour_totals   = df.groupby(\"pickup_hour\")[\"weight\"].sum() \n",
    "\n",
    "sns.barplot(x=hour_totals.index, y=hour_totals.values, color=\"dodgerblue\")  # Plotting pickup counts per hour\n",
    "plt.title(\"Taxi pickups by Hour of Day\")\n",
    "plt.xlabel('Hour (0-23)')\n",
    "plt.ylabel(\"Number of Pickups\")\n",
    "plt.gcf().axes[0].yaxis.set_major_formatter(\n",
    "        plt.FuncFormatter(lambda x, _ : f\"{x/1e6:.1f}M\"))\n",
    "plt.show()\n",
    "\n",
    "print(hour_totals)                  # Pickup counts per hour as a table"
   ]
  },
  {
   "cell_type": "code",
   "execution_count": 968,
   "metadata": {
    "id": "R64b8zfkG5OK"
   },
   "outputs": [
    {
     "data": {
      "image/png": "[encoded data removed]",
      "text/plain": [
       "<Figure size 640x480 with 1 Axes>"
      ]
     },
     "metadata": {},
     "output_type": "display_data"
    },
    {
     "name": "stdout",
     "output_type": "stream",
     "text": [
      "pickup_dayofweek\n",
      "Mon    4577500.0\n",
      "Tue    5317300.0\n",
      "Wed    5632000.0\n",
      "Thu    5750000.0\n",
      "Fri    5430000.0\n",
      "Sat    5315800.0\n",
      "Sun    4607600.0\n",
      "Name: weight, dtype: float64\n"
     ]
    }
   ],
   "source": [
    "# Find and show the daily trends in taxi pickups (days of the week)\n",
    "\n",
    "df['pickup_dayofweek'] = df['tpep_pickup_datetime'].dt.dayofweek    # Separating the days of the week from the pickup datetime\n",
    "\n",
    "pop_counts = (\n",
    "    df.groupby(\"pickup_dayofweek\")[\"weight\"]\n",
    "      .sum()                          # Σ weights gives estimated trip total\n",
    "      .reindex(range(7), fill_value=0)  # keep all days, ensure correct order\n",
    ")\n",
    "\n",
    "days = ['Mon', 'Tue', 'Wed', 'Thu', 'Fri', 'Sat', 'Sun']\n",
    "sns.barplot(x=pop_counts.index,                 # Plotting pickup counts per day of the week\n",
    "            y=pop_counts.values,\n",
    "            color=\"MediumSeaGreen\")    \n",
    "plt.title('Taxi Pickups by Day of Week')\n",
    "plt.xlabel('Day of Week')\n",
    "plt.ylabel('Number of Pickups')\n",
    "plt.xticks(range(7), days)\n",
    "plt.gcf().axes[0].yaxis.set_major_formatter(\n",
    "        plt.FuncFormatter(lambda x, _ : f\"{x/1e6:.1f}M\"))\n",
    "plt.show()\n",
    "\n",
    "print(pop_counts.rename(index=dict(enumerate(days))))           # Pickup counts per day of the week as a table\n",
    "\n"
   ]
  },
  {
   "cell_type": "code",
   "execution_count": 969,
   "metadata": {
    "id": "H7V-jmRQG5hJ"
   },
   "outputs": [
    {
     "data": {
      "image/png": "[encoded data removed]",
      "text/plain": [
       "<Figure size 640x480 with 1 Axes>"
      ]
     },
     "metadata": {},
     "output_type": "display_data"
    },
    {
     "name": "stdout",
     "output_type": "stream",
     "text": [
      "pickup_month\n",
      "Jan    2967300.0\n",
      "Feb    2815100.0\n",
      "Mar    3282800.0\n",
      "Apr    3168500.0\n",
      "May    3380700.0\n",
      "Jun    3181200.0\n",
      "Jul    2793100.0\n",
      "Aug    2706300.0\n",
      "Sep    2678700.0\n",
      "Oct    3338800.0\n",
      "Nov    3164800.0\n",
      "Dec    3152900.0\n",
      "Name: weight, dtype: float64\n"
     ]
    }
   ],
   "source": [
    "# Show the monthly trends in pickups\n",
    "\n",
    "df['pickup_month'] = df['tpep_pickup_datetime'].dt.month        # Separating the months from the pickup datetime\n",
    "\n",
    "month_totals = (\n",
    "    df.groupby(\"pickup_month\")[\"weight\"]\n",
    "      .sum()                         # Σ weights gives estimated trip count\n",
    "      .reindex(range(1, 13), fill_value=0)   # keep Jan–Dec order\n",
    ")\n",
    "\n",
    "sns.barplot(x=month_totals.index,\n",
    "            y=month_totals.values,\n",
    "            color=\"darkorange\")\n",
    "plt.title(\"Taxi Pickups by Month (population-weighted)\")\n",
    "plt.xlabel(\"Month\")\n",
    "plt.ylabel(\"Estimated Number of Pickups\")\n",
    "plt.xticks(range(0, 12),             # positions 0–11\n",
    "           [\"Jan\",\"Feb\",\"Mar\",\"Apr\",\"May\",\"Jun\",\n",
    "            \"Jul\",\"Aug\",\"Sep\",\"Oct\",\"Nov\",\"Dec\"])\n",
    "plt.gcf().axes[0].yaxis.set_major_formatter(\n",
    "        plt.FuncFormatter(lambda x, _ : f\"{x/1e6:.1f}M\"))\n",
    "plt.tight_layout()\n",
    "plt.show()\n",
    "\n",
    "print(month_totals.rename(index=dict(zip(range(1,13),\n",
    "       [\"Jan\",\"Feb\",\"Mar\",\"Apr\",\"May\",\"Jun\",\n",
    "        \"Jul\",\"Aug\",\"Sep\",\"Oct\",\"Nov\",\"Dec\"]))))       # Pickup counts per month as a table"
   ]
  },
  {
   "cell_type": "markdown",
   "metadata": {
    "id": "23IqsgNjHNpJ"
   },
   "source": [
    "##### Financial Analysis"
   ]
  },
  {
   "cell_type": "markdown",
   "metadata": {
    "id": "fRaO-3NqHSM6"
   },
   "source": [
    "Take a look at the financial parameters like `fare_amount`, `tip_amount`, `total_amount`, and also `trip_distance`. Do these contain zero/negative values?"
   ]
  },
  {
   "cell_type": "code",
   "execution_count": 970,
   "metadata": {
    "id": "Z7JUnPeRHRqF"
   },
   "outputs": [
    {
     "name": "stdout",
     "output_type": "stream",
     "text": [
      "               negatives  zeros\n",
      "fare_amount            0    117\n",
      "tip_amount             0  81712\n",
      "total_amount           0     46\n",
      "trip_distance          0   4512\n"
     ]
    }
   ],
   "source": [
    "# Analyse the above parameters\n",
    "cols = ['fare_amount', 'tip_amount', 'total_amount', 'trip_distance']\n",
    "\n",
    "check = pd.DataFrame({\n",
    "    'negatives' : (df[cols] < 0).sum(),\n",
    "    'zeros'     : (df[cols] == 0).sum()\n",
    "})\n",
    "\n",
    "print(check)\n"
   ]
  },
  {
   "cell_type": "markdown",
   "metadata": {
    "id": "dbOS_-GDJTyv"
   },
   "source": [
    "Do you think it is beneficial to create a copy DataFrame leaving out the zero values from these?"
   ]
  },
  {
   "cell_type": "markdown",
   "metadata": {
    "id": "YDN14J63o9gV"
   },
   "source": [
    "**3.1.3** <font color = red>[2 marks]</font> <br>\n",
    "Filter out the zero values from the above columns.\n",
    "\n",
    "**Note:** The distance might be 0 in cases where pickup and drop is in the same zone. Do you think it is suitable to drop such cases of zero distance?"
   ]
  },
  {
   "cell_type": "code",
   "execution_count": 971,
   "metadata": {
    "id": "5mk7Yp41JqJd"
   },
   "outputs": [
    {
     "name": "stdout",
     "output_type": "stream",
     "text": [
      "               negatives  zeros\n",
      "fare_amount            0      0\n",
      "tip_amount             0  80694\n",
      "total_amount           0      0\n",
      "trip_distance          0   2980\n"
     ]
    }
   ],
   "source": [
    "# Create a df with non zero entries for the selected parameters.\n",
    "df = df[\n",
    "        ~( (df['fare_amount']   == 0) |\n",
    "           (df['total_amount']  == 0) |\n",
    "           ((df['trip_distance'] == 0) &\n",
    "            (df['PULocationID']  != df['DOLocationID']))\n",
    "         )\n",
    "     ].reset_index(drop=True)\n",
    "\n",
    "cols = ['fare_amount', 'tip_amount', 'total_amount', 'trip_distance']\n",
    "\n",
    "check = pd.DataFrame({\n",
    "    'negatives' : (df[cols] < 0).sum(),\n",
    "    'zeros'     : (df[cols] == 0).sum()\n",
    "})\n",
    "\n",
    "print(check)\n"
   ]
  },
  {
   "cell_type": "markdown",
   "metadata": {
    "id": "kJcgwyrtKivH"
   },
   "source": [
    "**3.1.4** <font color = red>[3 marks]</font> <br>\n",
    "Analyse the monthly revenue (`total_amount`) trend"
   ]
  },
  {
   "cell_type": "code",
   "execution_count": 972,
   "metadata": {
    "id": "U_gl8rBD6ZH0"
   },
   "outputs": [
    {
     "name": "stdout",
     "output_type": "stream",
     "text": [
      "pickup_month\n",
      "2023-01    80812503.0\n",
      "2023-02    76427548.0\n",
      "2023-03    91708489.0\n",
      "2023-04    90282868.0\n",
      "2023-05    98509381.0\n",
      "2023-06    92253264.0\n",
      "2023-07    79930765.0\n",
      "2023-08    78167030.0\n",
      "2023-09    80527740.0\n",
      "2023-10    99270032.0\n",
      "2023-11    91142921.0\n",
      "2023-12    91021735.0\n",
      "Freq: M, Name: weighted_revenue, dtype: float64\n"
     ]
    },
    {
     "data": {
      "image/png": "[encoded data removed]",
      "text/plain": [
       "<Figure size 1000x400 with 1 Axes>"
      ]
     },
     "metadata": {},
     "output_type": "display_data"
    }
   ],
   "source": [
    "# Group data by month and analyse monthly revenue\n",
    "\n",
    "df['pickup_month'] = df['tpep_pickup_datetime'].dt.to_period('M')\n",
    "\n",
    "# Aggregate revenue by month  \n",
    "rev_by_month = (\n",
    "    df.assign(weighted_revenue = df[\"total_amount\"] * df[\"weight\"])\n",
    "      .groupby(\"pickup_month\")[\"weighted_revenue\"]\n",
    "      .sum()\n",
    "      .sort_index()\n",
    ")\n",
    "\n",
    "print(rev_by_month)\n",
    "\n",
    "# Plotting monthly revenue\n",
    "fig, ax = plt.subplots(figsize=(10,4))\n",
    "\n",
    "(rev_by_month / 1e6).plot(\n",
    "    kind=\"bar\",\n",
    "    color=\"steelblue\",\n",
    "    ax=ax\n",
    ")\n",
    "\n",
    "ax.set_title(\"NYC Yellow-Taxi Revenue per Month - 2023\")\n",
    "ax.set_ylabel(\"Revenue (million USD)\")\n",
    "ax.set_xlabel(\"Month\")\n",
    "ax.set_xticklabels(rev_by_month.index.astype(str), rotation=45)\n",
    "ax.yaxis.set_major_formatter(\n",
    "    plt.FuncFormatter(lambda x, _: f\"{x:,.1f}M\")\n",
    ")                   # 1.5 → “1.5 M”\n",
    "plt.tight_layout()\n",
    "plt.show()\n"
   ]
  },
  {
   "cell_type": "markdown",
   "metadata": {
    "id": "3vQHosTZLalB"
   },
   "source": [
    "**3.1.5** <font color = red>[3 marks]</font> <br>\n",
    "Show the proportion of each quarter of the year in the revenue"
   ]
  },
  {
   "cell_type": "code",
   "execution_count": 973,
   "metadata": {
    "id": "foV9BpFbVTbu"
   },
   "outputs": [
    {
     "data": {
      "image/png": "[encoded data removed]",
      "text/plain": [
       "<Figure size 600x600 with 1 Axes>"
      ]
     },
     "metadata": {},
     "output_type": "display_data"
    }
   ],
   "source": [
    "# Calculate proportion of each quarter\n",
    "\n",
    "df['pickup_quarter'] = df['tpep_pickup_datetime'].dt.quarter\n",
    "df['weighted_revenue'] = df['total_amount'] * df['weight']\n",
    "\n",
    "rev_by_qtr = (df.groupby('pickup_quarter')['weighted_revenue']\n",
    "                .sum()\n",
    "                .reindex([1,2,3,4], fill_value=0))              # Q1-Q4 order\n",
    "\n",
    "proportions = rev_by_qtr / rev_by_qtr.sum()\n",
    "\n",
    "def pct_and_value(pct, allvals):\n",
    "    absolute = pct/100 * allvals.sum()\n",
    "    return f\"{pct:.1f}%\\n(${absolute:,.0f})\"\n",
    "\n",
    "# Plotting the quarterly revenue proportions as a donut chart\n",
    "\n",
    "plt.figure(figsize=(6,6))\n",
    "wedges, texts, autotexts = plt.pie(\n",
    "        proportions,\n",
    "        labels=[\"Q1\",\"Q2\",\"Q3\",\"Q4\"],\n",
    "        autopct=lambda pct: pct_and_value(pct, rev_by_qtr),   \n",
    "        pctdistance=1.25,\n",
    "        startangle=90,\n",
    "        counterclock=False,\n",
    "        colors=sns.color_palette(\"pastel\"),\n",
    "        wedgeprops=dict(width=0.45)\n",
    ")\n",
    "\n",
    "plt.setp(autotexts, size=10, weight=\"bold\", color=\"black\")   \n",
    "plt.title(\"Proportion of Annual Revenue by Quarter\\n\")\n",
    "plt.tight_layout()\n",
    "plt.show()\n"
   ]
  },
  {
   "cell_type": "markdown",
   "metadata": {
    "id": "JncXEPjBLyHp"
   },
   "source": [
    "**3.1.6** <font color = red>[3 marks]</font> <br>\n",
    "Visualise the relationship between `trip_distance` and `fare_amount`. Also find the correlation value for these two.\n",
    "\n",
    "**Hint:** You can leave out the trips with trip_distance = 0"
   ]
  },
  {
   "cell_type": "code",
   "execution_count": 974,
   "metadata": {
    "id": "-z8Fegh_P5At"
   },
   "outputs": [
    {
     "data": {
      "image/png": "[encoded data removed]",
      "text/plain": [
       "<Figure size 800x600 with 1 Axes>"
      ]
     },
     "metadata": {},
     "output_type": "display_data"
    },
    {
     "name": "stdout",
     "output_type": "stream",
     "text": [
      "Pearson correlation: 0.945\n"
     ]
    }
   ],
   "source": [
    "# Keep only trips with a positive distance\n",
    "df = df[df[\"trip_distance\"] > 0]\n",
    "\n",
    "# Show how trip fare is affected by distance\n",
    "sample = df.sample(frac=0.02, random_state=42)   # 2 % subsample\n",
    "\n",
    "plt.figure(figsize=(8,6))\n",
    "plt.scatter(sample[\"trip_distance\"],\n",
    "            sample[\"fare_amount\"],\n",
    "            alpha=0.3, s=10)\n",
    "plt.title(\"Trip Distance vs. Fare Amount (2 % random subsample)\")\n",
    "plt.xlabel(\"Trip Distance (miles)\")\n",
    "plt.ylabel(\"Fare Amount (USD)\")\n",
    "plt.tight_layout()\n",
    "plt.show()\n",
    "\n",
    "\n",
    "# Calculate the Pearson correlation coefficient between trip distance and fare amount\n",
    "corr = np.corrcoef(df[\"trip_distance\"], df[\"fare_amount\"])[0,1]\n",
    "print(f\"Pearson correlation: {corr:.3f}\")\n",
    "\n"
   ]
  },
  {
   "cell_type": "markdown",
   "metadata": {
    "id": "-OGNFTX4QdeS"
   },
   "source": [
    "**3.1.7** <font color = red>[5 marks]</font> <br>\n",
    "Find and visualise the correlation between:\n",
    "1. `fare_amount` and trip duration (pickup time to dropoff time)\n",
    "2. `fare_amount` and `passenger_count`\n",
    "3. `tip_amount` and `trip_distance`"
   ]
  },
  {
   "cell_type": "code",
   "execution_count": 981,
   "metadata": {
    "id": "EtSNqFw19TB3"
   },
   "outputs": [
    {
     "data": {
      "image/png": "[encoded data removed]",
      "text/plain": [
       "<Figure size 800x600 with 1 Axes>"
      ]
     },
     "metadata": {},
     "output_type": "display_data"
    },
    {
     "name": "stdout",
     "output_type": "stream",
     "text": [
      "Pearson correlation: 0.824\n"
     ]
    }
   ],
   "source": [
    "# Show relationship between fare and trip duration\n",
    "\n",
    "df[\"trip_duration\"] = (\n",
    "    df[\"tpep_dropoff_datetime\"] - df[\"tpep_pickup_datetime\"]\n",
    ").dt.total_seconds() / 60\n",
    "\n",
    "df = df[(df[\"trip_duration\"] > 0) & (df[\"trip_duration\"] <= 500)] \n",
    "\n",
    "sample = df.sample(frac=0.02, random_state=42)\n",
    "\n",
    "plt.figure(figsize=(8,6))\n",
    "plt.scatter(sample[\"trip_duration\"],\n",
    "            sample[\"fare_amount\"],\n",
    "            alpha=0.3, s=10)\n",
    "plt.title(\"Trip Duration vs. Fare Amount (2 % random subsample)\")\n",
    "plt.xlabel(\"Trip Duration\")\n",
    "plt.ylabel(\"Fare Amount (USD)\")\n",
    "plt.tight_layout()\n",
    "plt.show()\n",
    "\n",
    "corr = np.corrcoef(df[\"trip_duration\"], df[\"fare_amount\"])[0,1]\n",
    "print(f\"Pearson correlation: {corr:.3f}\")\n",
    "\n"
   ]
  },
  {
   "cell_type": "code",
   "execution_count": 987,
   "metadata": {
    "id": "oTrlXiBm9TB3"
   },
   "outputs": [
    {
     "data": {
      "image/png": "[encoded data removed]",
      "text/plain": [
       "<Figure size 800x400 with 1 Axes>"
      ]
     },
     "metadata": {},
     "output_type": "display_data"
    },
    {
     "name": "stdout",
     "output_type": "stream",
     "text": [
      "Pearson correlation: 0.044\n"
     ]
    }
   ],
   "source": [
    "# Show relationship between fare and number of passengers\n",
    "\n",
    "sample = df.sample(frac=0.02, random_state=42)   # 2 % subsample\n",
    "\n",
    "# Create a boxen plot to show fare amount by passenger count\n",
    "plt.figure(figsize=(8,4))\n",
    "sns.boxenplot(x=\"passenger_count\",\n",
    "              y=\"fare_amount\",\n",
    "              data=df)\n",
    "plt.title(\"Fare Amount by Passenger Count (boxen plot)\")\n",
    "plt.xlabel(\"Passenger Count\")\n",
    "plt.ylabel(\"Fare Amount (USD)\")\n",
    "plt.tight_layout()\n",
    "plt.show()\n",
    "\n",
    "\n",
    "\n",
    "# Calculate the Pearson correlation coefficient between passenger count and fare amount\n",
    "corr = np.corrcoef(df[\"passenger_count\"], df[\"fare_amount\"])[0,1]\n",
    "print(f\"Pearson correlation: {corr:.3f}\")\n",
    "\n"
   ]
  },
  {
   "cell_type": "code",
   "execution_count": 1020,
   "metadata": {
    "id": "Lph7rakc9TB3"
   },
   "outputs": [
    {
     "data": {
      "image/png": "[encoded data removed]",
      "text/plain": [
       "<Figure size 800x600 with 1 Axes>"
      ]
     },
     "metadata": {},
     "output_type": "display_data"
    },
    {
     "name": "stdout",
     "output_type": "stream",
     "text": [
      "Pearson correlation: 0.588\n"
     ]
    }
   ],
   "source": [
    "# Show relationship between tip and trip distance\n",
    "\n",
    "plt.figure(figsize=(8,6))\n",
    "plt.scatter(sample[\"tip_amount\"],\n",
    "            sample[\"trip_distance\"],\n",
    "            alpha=0.3, s=10)\n",
    "plt.title(\"Tip Amount vs. Trip Distance (2 % random subsample)\")\n",
    "plt.xlabel(\"Tip Amount (USD)\")\n",
    "plt.ylabel(\"Trip Distance (miles)\")\n",
    "plt.tight_layout()\n",
    "plt.show()\n",
    "\n",
    "\n",
    "# Calculate the Pearson correlation coefficient between tip amount and trip_distance\n",
    "corr = np.corrcoef(df[\"tip_amount\"], df[\"trip_distance\"])[0,1]\n",
    "print(f\"Pearson correlation: {corr:.3f}\")\n"
   ]
  },
  {
   "cell_type": "markdown",
   "metadata": {
    "id": "3EL5CU47QJ5u"
   },
   "source": [
    "**3.1.8** <font color = red>[3 marks]</font> <br>\n",
    "Analyse the distribution of different payment types (`payment_type`)"
   ]
  },
  {
   "cell_type": "code",
   "execution_count": 997,
   "metadata": {
    "id": "pknOiYLp9Wnd"
   },
   "outputs": [
    {
     "name": "stdout",
     "output_type": "stream",
     "text": [
      "payment_type_named\n",
      "Credit card    29583700.0\n",
      "Cash            6182000.0\n",
      "Dispute          244600.0\n",
      "No charge        131300.0\n",
      "Name: weight, dtype: float64\n"
     ]
    },
    {
     "data": {
      "image/png": "[encoded data removed]",
      "text/plain": [
       "<Figure size 600x400 with 1 Axes>"
      ]
     },
     "metadata": {},
     "output_type": "display_data"
    },
    {
     "data": {
      "image/png": "[encoded data removed]",
      "text/plain": [
       "<Figure size 600x600 with 1 Axes>"
      ]
     },
     "metadata": {},
     "output_type": "display_data"
    }
   ],
   "source": [
    "# Analyse the distribution of different payment types (payment_type).\n",
    "\n",
    "#adding labels for payment types\n",
    "pay_labels = {\n",
    "    1: \"Credit card\",\n",
    "    2: \"Cash\",\n",
    "    3: \"No charge\",\n",
    "    4: \"Dispute\"\n",
    "}\n",
    "\n",
    "# Map the payment_type to the labels\n",
    "df[\"payment_type_named\"] = df[\"payment_type\"].map(pay_labels)\n",
    "\n",
    "# Group by payment type and calculate total weight (number of trips)\n",
    "pay_totals = (df\n",
    "              .groupby(\"payment_type_named\")[\"weight\"]\n",
    "              .sum()\n",
    "              .sort_values(ascending=False))\n",
    "print(pay_totals)\n",
    "\n",
    "# Plot the payment type totals as a bar chart\n",
    "plt.figure(figsize=(6,4))\n",
    "sns.barplot(x=pay_totals.index,\n",
    "            y=pay_totals.values,\n",
    "            color=\"slateblue\")\n",
    "\n",
    "plt.title(\"Taxi Trips by Payment Type\")\n",
    "plt.xlabel(\"Payment Type code\")\n",
    "plt.ylabel(\"Estimated Number of Trips\")\n",
    "plt.tight_layout()\n",
    "plt.show()\n",
    "\n",
    "# Calculate the proportions of each payment type\n",
    "proportions = pay_totals / pay_totals.sum()\n",
    "\n",
    "# Donut chart to show the share of payment types\n",
    "fig, ax = plt.subplots(figsize=(6,6))\n",
    "\n",
    "wedges, _ = ax.pie(\n",
    "    proportions,\n",
    "    startangle=90,\n",
    "    counterclock=False,\n",
    "    colors=sns.color_palette(\"pastel\"),\n",
    "    wedgeprops=dict(width=0.45)       # hollow centre\n",
    ")\n",
    "\n",
    "# legend for donut chart\n",
    "legend_labels = [\n",
    "    f\"{name} – {pct*100:.1f}%\"\n",
    "    for name, pct in zip(pay_totals.index, proportions)\n",
    "]\n",
    "\n",
    "ax.legend(\n",
    "    wedges, legend_labels,\n",
    "    title=\"Payment type (share)\",\n",
    "    loc=\"center left\",\n",
    "    bbox_to_anchor=(1.05, 0.5),\n",
    "    frameon=False\n",
    ")\n",
    "\n",
    "ax.set(\n",
    "    aspect=\"equal\",\n",
    "    title=\"Share of Payment Types\"\n",
    ")\n",
    "plt.tight_layout()\n",
    "plt.show()\n",
    "\n",
    "\n",
    "\n"
   ]
  },
  {
   "cell_type": "markdown",
   "metadata": {
    "id": "PxxbUmSZ9Wne"
   },
   "source": [
    "- 1= Credit card\n",
    "- 2= Cash\n",
    "- 3= No charge\n",
    "- 4= Dispute\n",
    "\n"
   ]
  },
  {
   "cell_type": "markdown",
   "metadata": {
    "id": "CVXxcSYHj9sh"
   },
   "source": [
    "##### Geographical Analysis"
   ]
  },
  {
   "cell_type": "markdown",
   "metadata": {
    "id": "tvBXuYW7kEyS"
   },
   "source": [
    "For this, you have to use the *taxi_zones.shp* file from the *taxi_zones* folder.\n",
    "\n",
    "There would be multiple files inside the folder (such as *.shx, .sbx, .sbn* etc). You do not need to import/read any of the files other than the shapefile, *taxi_zones.shp*.\n",
    "\n",
    "Do not change any folder structure - all the files need to be present inside the folder for it to work.\n",
    "\n",
    "The folder structure should look like this:\n",
    "```\n",
    "Taxi Zones\n",
    "|- taxi_zones.shp.xml\n",
    "|- taxi_zones.prj\n",
    "|- taxi_zones.sbn\n",
    "|- taxi_zones.shp\n",
    "|- taxi_zones.dbf\n",
    "|- taxi_zones.shx\n",
    "|- taxi_zones.sbx\n",
    "\n",
    " ```\n",
    "\n",
    " You only need to read the `taxi_zones.shp` file. The *shp* file will utilise the other files by itself."
   ]
  },
  {
   "cell_type": "markdown",
   "metadata": {
    "id": "hR8f8ypXUtxJ"
   },
   "source": [
    "We will use the *GeoPandas* library for geopgraphical analysis\n",
    "```\n",
    "import geopandas as gpd\n",
    "```\n",
    "\n",
    "More about geopandas and shapefiles: [About](https://geopandas.org/en/stable/about.html)\n",
    "\n",
    "\n",
    "Reading the shapefile is very similar to *Pandas*. Use `gpd.read_file()` function to load the data (*taxi_zones.shp*) as a GeoDataFrame. Documentation: [Reading and Writing Files](https://geopandas.org/en/stable/docs/user_guide/io.html)"
   ]
  },
  {
   "cell_type": "code",
   "execution_count": 979,
   "metadata": {
    "id": "FJ76QD9IXNz8"
   },
   "outputs": [],
   "source": [
    "# !pip install geopandas"
   ]
  },
  {
   "cell_type": "markdown",
   "metadata": {
    "id": "q_QpZLl_WU-b"
   },
   "source": [
    "**3.1.9** <font color = red>[2 marks]</font> <br>\n",
    "Load the shapefile and display it."
   ]
  },
  {
   "cell_type": "code",
   "execution_count": 999,
   "metadata": {
    "id": "hLyVd3TQkCdG"
   },
   "outputs": [
    {
     "data": {
      "text/html": [
       "<div>\n",
       "<style scoped>\n",
       "    .dataframe tbody tr th:only-of-type {\n",
       "        vertical-align: middle;\n",
       "    }\n",
       "\n",
       "    .dataframe tbody tr th {\n",
       "        vertical-align: top;\n",
       "    }\n",
       "\n",
       "    .dataframe thead th {\n",
       "        text-align: right;\n",
       "    }\n",
       "</style>\n",
       "<table border=\"1\" class=\"dataframe\">\n",
       "  <thead>\n",
       "    <tr style=\"text-align: right;\">\n",
       "      <th></th>\n",
       "      <th>OBJECTID</th>\n",
       "      <th>Shape_Leng</th>\n",
       "      <th>Shape_Area</th>\n",
       "      <th>zone</th>\n",
       "      <th>LocationID</th>\n",
       "      <th>borough</th>\n",
       "      <th>geometry</th>\n",
       "    </tr>\n",
       "  </thead>\n",
       "  <tbody>\n",
       "    <tr>\n",
       "      <th>0</th>\n",
       "      <td>1</td>\n",
       "      <td>0.116357</td>\n",
       "      <td>0.000782</td>\n",
       "      <td>Newark Airport</td>\n",
       "      <td>1</td>\n",
       "      <td>EWR</td>\n",
       "      <td>POLYGON ((933100.918 192536.086, 933091.011 19...</td>\n",
       "    </tr>\n",
       "    <tr>\n",
       "      <th>1</th>\n",
       "      <td>2</td>\n",
       "      <td>0.433470</td>\n",
       "      <td>0.004866</td>\n",
       "      <td>Jamaica Bay</td>\n",
       "      <td>2</td>\n",
       "      <td>Queens</td>\n",
       "      <td>MULTIPOLYGON (((1033269.244 172126.008, 103343...</td>\n",
       "    </tr>\n",
       "    <tr>\n",
       "      <th>2</th>\n",
       "      <td>3</td>\n",
       "      <td>0.084341</td>\n",
       "      <td>0.000314</td>\n",
       "      <td>Allerton/Pelham Gardens</td>\n",
       "      <td>3</td>\n",
       "      <td>Bronx</td>\n",
       "      <td>POLYGON ((1026308.77 256767.698, 1026495.593 2...</td>\n",
       "    </tr>\n",
       "    <tr>\n",
       "      <th>3</th>\n",
       "      <td>4</td>\n",
       "      <td>0.043567</td>\n",
       "      <td>0.000112</td>\n",
       "      <td>Alphabet City</td>\n",
       "      <td>4</td>\n",
       "      <td>Manhattan</td>\n",
       "      <td>POLYGON ((992073.467 203714.076, 992068.667 20...</td>\n",
       "    </tr>\n",
       "    <tr>\n",
       "      <th>4</th>\n",
       "      <td>5</td>\n",
       "      <td>0.092146</td>\n",
       "      <td>0.000498</td>\n",
       "      <td>Arden Heights</td>\n",
       "      <td>5</td>\n",
       "      <td>Staten Island</td>\n",
       "      <td>POLYGON ((935843.31 144283.336, 936046.565 144...</td>\n",
       "    </tr>\n",
       "  </tbody>\n",
       "</table>\n",
       "</div>"
      ],
      "text/plain": [
       "   OBJECTID  Shape_Leng  Shape_Area                     zone  LocationID  \\\n",
       "0         1    0.116357    0.000782           Newark Airport           1   \n",
       "1         2    0.433470    0.004866              Jamaica Bay           2   \n",
       "2         3    0.084341    0.000314  Allerton/Pelham Gardens           3   \n",
       "3         4    0.043567    0.000112            Alphabet City           4   \n",
       "4         5    0.092146    0.000498            Arden Heights           5   \n",
       "\n",
       "         borough                                           geometry  \n",
       "0            EWR  POLYGON ((933100.918 192536.086, 933091.011 19...  \n",
       "1         Queens  MULTIPOLYGON (((1033269.244 172126.008, 103343...  \n",
       "2          Bronx  POLYGON ((1026308.77 256767.698, 1026495.593 2...  \n",
       "3      Manhattan  POLYGON ((992073.467 203714.076, 992068.667 20...  \n",
       "4  Staten Island  POLYGON ((935843.31 144283.336, 936046.565 144...  "
      ]
     },
     "execution_count": 999,
     "metadata": {},
     "output_type": "execute_result"
    }
   ],
   "source": [
    "import geopandas as gpd\n",
    "\n",
    "\n",
    "# Read the shapefile using geopandas\n",
    "zones = gpd.read_file(\"C:/Users/gouta/VSCprojects/Assignment1_NYC_Yellow_Taxi_Data/taxi_zones/taxi_zones.shp\") # read the .shp file using gpd\n",
    "zones.head()"
   ]
  },
  {
   "cell_type": "markdown",
   "metadata": {
    "id": "8YXJMzRoWxeg"
   },
   "source": [
    "Now, if you look at the DataFrame created, you will see columns like: `OBJECTID`,`Shape_Leng`, `Shape_Area`, `zone`, `LocationID`, `borough`, `geometry`.\n",
    "<br><br>\n",
    "\n",
    "Now, the `locationID` here is also what we are using to mark pickup and drop zones in the trip records.\n",
    "\n",
    "The geometric parameters like shape length, shape area and geometry are used to plot the zones on a map.\n",
    "\n",
    "This can be easily done using the `plot()` method."
   ]
  },
  {
   "cell_type": "code",
   "execution_count": 1010,
   "metadata": {
    "id": "lTqdZChLYE6H"
   },
   "outputs": [
    {
     "name": "stdout",
     "output_type": "stream",
     "text": [
      "<class 'geopandas.geodataframe.GeoDataFrame'>\n",
      "RangeIndex: 265 entries, 0 to 264\n",
      "Data columns (total 9 columns):\n",
      " #   Column        Non-Null Count  Dtype   \n",
      "---  ------        --------------  -----   \n",
      " 0   OBJECTID      265 non-null    int32   \n",
      " 1   Shape_Leng    265 non-null    float64 \n",
      " 2   Shape_Area    265 non-null    float64 \n",
      " 3   zone          265 non-null    object  \n",
      " 4   LocationID    265 non-null    int32   \n",
      " 5   borough       265 non-null    object  \n",
      " 6   geometry      265 non-null    geometry\n",
      " 7   PULocationID  240 non-null    float64 \n",
      " 8   trips         265 non-null    int64   \n",
      "dtypes: float64(3), geometry(1), int32(2), int64(1), object(2)\n",
      "memory usage: 16.7+ KB\n",
      "None\n"
     ]
    },
    {
     "data": {
      "text/plain": [
       "<Axes: >"
      ]
     },
     "execution_count": 1010,
     "metadata": {},
     "output_type": "execute_result"
    },
    {
     "data": {
      "image/png": "[encoded data removed]",
      "text/plain": [
       "<Figure size 640x480 with 1 Axes>"
      ]
     },
     "metadata": {},
     "output_type": "display_data"
    }
   ],
   "source": [
    "print(zones.info())\n",
    "zones.plot()"
   ]
  },
  {
   "cell_type": "markdown",
   "metadata": {
    "id": "fBkWokLIY_BH"
   },
   "source": [
    "Now, you have to merge the trip records and zones data using the location IDs.\n",
    "\n"
   ]
  },
  {
   "cell_type": "markdown",
   "metadata": {
    "id": "YzUMLUjqaJLN"
   },
   "source": [
    "**3.1.10** <font color = red>[3 marks]</font> <br>\n",
    "Merge the zones data into trip data using the `locationID` and `PULocationID` columns."
   ]
  },
  {
   "cell_type": "code",
   "execution_count": 1005,
   "metadata": {
    "id": "A2L8hWMQaYkX"
   },
   "outputs": [
    {
     "name": "stdout",
     "output_type": "stream",
     "text": [
      "   PULocationID                       zone    borough\n",
      "0           138          LaGuardia Airport     Queens\n",
      "1           161             Midtown Center  Manhattan\n",
      "2           237      Upper East Side South  Manhattan\n",
      "3           143        Lincoln Square West  Manhattan\n",
      "4           246  West Chelsea/Hudson Yards  Manhattan\n"
     ]
    }
   ],
   "source": [
    "# Merge zones and trip records using locationID and PULocationID\n",
    "\n",
    "df = df.merge(\n",
    "        zones[[\"LocationID\", \"zone\", \"borough\"]],   # keep only useful cols\n",
    "        how=\"left\",\n",
    "        left_on=\"PULocationID\",\n",
    "        right_on=\"LocationID\"\n",
    "     )\n",
    "\n",
    "print(df[[\"PULocationID\", \"zone\", \"borough\"]].head())"
   ]
  },
  {
   "cell_type": "markdown",
   "metadata": {
    "id": "9CYc36Weai5-"
   },
   "source": [
    "**3.1.11** <font color = red>[3 marks]</font> <br>\n",
    "Group data by location IDs to find the total number of trips per location ID"
   ]
  },
  {
   "cell_type": "code",
   "execution_count": 1006,
   "metadata": {
    "id": "XpTIaPSSbwZZ"
   },
   "outputs": [
    {
     "name": "stdout",
     "output_type": "stream",
     "text": [
      "     PULocationID    trips                          zone    borough\n",
      "117           132  1890300                   JFK Airport     Queens\n",
      "214           237  1726300         Upper East Side South  Manhattan\n",
      "145           161  1702900                Midtown Center  Manhattan\n",
      "213           236  1544200         Upper East Side North  Manhattan\n",
      "146           162  1314000                  Midtown East  Manhattan\n",
      "123           138  1260000             LaGuardia Airport     Queens\n",
      "167           186  1254500  Penn Station/Madison Sq West  Manhattan\n",
      "207           230  1204000     Times Sq/Theatre District  Manhattan\n",
      "127           142  1200000           Lincoln Square East  Manhattan\n",
      "154           170  1074800                   Murray Hill  Manhattan\n"
     ]
    }
   ],
   "source": [
    "# Group data by location and calculate the number of trips\n",
    "\n",
    "# Population-weighted trip count per pickup LocationID\n",
    "pu_counts = (df.groupby(\"PULocationID\")[\"weight\"]\n",
    "               .sum()                       # Σ weights ⇒ estimated # trips\n",
    "               .astype(int)                 # nicer display\n",
    "               .rename(\"trips\")             # column name\n",
    "               .reset_index())\n",
    "\n",
    "# Add zone + borough names for readability\n",
    "pu_counts = (pu_counts\n",
    "             .merge(zones[[\"LocationID\", \"zone\", \"borough\"]],\n",
    "                    left_on=\"PULocationID\", right_on=\"LocationID\",\n",
    "                    how=\"left\")\n",
    "             .drop(columns=\"LocationID\")        # avoid duplicate\n",
    "             .sort_values(\"trips\", ascending=False))\n",
    "\n",
    "# Top 10 pickup locations by trip count\n",
    "print(pu_counts.head(10))\n"
   ]
  },
  {
   "cell_type": "markdown",
   "metadata": {
    "id": "As0dVJpdcK2_"
   },
   "source": [
    "**3.1.12** <font color = red>[2 marks]</font> <br>\n",
    "Now, use the grouped data to add number of trips to the GeoDataFrame.\n",
    "\n",
    "We will use this to plot a map of zones showing total trips per zone."
   ]
  },
  {
   "cell_type": "code",
   "execution_count": 1007,
   "metadata": {
    "id": "H9Sheg7vdZ6q"
   },
   "outputs": [
    {
     "name": "stdout",
     "output_type": "stream",
     "text": [
      "   LocationID                     zone        borough  trips\n",
      "0           1           Newark Airport            EWR    800\n",
      "1           2              Jamaica Bay         Queens      0\n",
      "2           3  Allerton/Pelham Gardens          Bronx    900\n",
      "3           4            Alphabet City      Manhattan  35100\n",
      "4           5            Arden Heights  Staten Island    200\n"
     ]
    }
   ],
   "source": [
    "# Merge trip counts back to the zones GeoDataFrame\n",
    "\n",
    "zones = zones.merge(\n",
    "            pu_counts[[\"PULocationID\", \"trips\"]],   # only need the tally\n",
    "            how=\"left\",\n",
    "            left_on=\"LocationID\",\n",
    "            right_on=\"PULocationID\"\n",
    "        )\n",
    "\n",
    "# Any zone that had zero sampled trips will have NaN; replace with 0\n",
    "zones[\"trips\"] = zones[\"trips\"].fillna(0).astype(int)\n",
    "\n",
    "# Checking if it worked \n",
    "print(zones[[\"LocationID\", \"zone\", \"borough\", \"trips\"]].head())\n",
    "\n"
   ]
  },
  {
   "cell_type": "markdown",
   "metadata": {
    "id": "DsfomL6Od0_R"
   },
   "source": [
    "The next step is creating a color map (choropleth map) showing zones by the number of trips taken.\n",
    "\n",
    "Again, you can use the `zones.plot()` method for this. [Plot Method GPD](https://geopandas.org/en/stable/docs/reference/api/geopandas.GeoDataFrame.plot.html#geopandas.GeoDataFrame.plot)\n",
    "\n",
    "But first, you need to define the figure and axis for the plot.\n",
    "\n",
    "`fig, ax = plt.subplots(1, 1, figsize = (12, 10))`\n",
    "\n",
    "This function creates a figure (fig) and a single subplot (ax)\n",
    "\n",
    "---"
   ]
  },
  {
   "cell_type": "markdown",
   "metadata": {
    "id": "QgDcw8gUejVk"
   },
   "source": [
    "After setting up the figure and axis, we can proceed to plot the GeoDataFrame on this axis. This is done in the next step where we use the plot method of the GeoDataFrame.\n",
    "\n",
    "You can define the following parameters in the `zones.plot()` method:\n",
    "```\n",
    "column = '',\n",
    "ax = ax,\n",
    "legend = True,\n",
    "legend_kwds = {'label': \"label\", 'orientation': \"<horizontal/vertical>\"}\n",
    "```\n",
    "\n",
    "To display the plot, use `plt.show()`."
   ]
  },
  {
   "cell_type": "markdown",
   "metadata": {
    "id": "xFQmkJipfU1P"
   },
   "source": [
    "**3.1.13** <font color = red>[3 marks]</font> <br>\n",
    "Plot a color-coded map showing zone-wise trips"
   ]
  },
  {
   "cell_type": "code",
   "execution_count": 1016,
   "metadata": {
    "id": "i506kVTgefM5"
   },
   "outputs": [
    {
     "data": {
      "image/png": "[encoded data removed]",
      "text/plain": [
       "<Figure size 800x600 with 2 Axes>"
      ]
     },
     "metadata": {},
     "output_type": "display_data"
    }
   ],
   "source": [
    "# Define figure and axis\n",
    "\n",
    "fig, ax = plt.subplots(1, 1, figsize=(8, 6))\n",
    "\n",
    "# Plot the map and display it\n",
    "\n",
    "zones.plot(\n",
    "    column=\"trips\",\n",
    "    cmap=\"viridis_r\",\n",
    "    linewidth=0.25,\n",
    "    edgecolor=\"grey\",\n",
    "    ax=ax,\n",
    "    legend=True,\n",
    "    legend_kwds={\"label\": \"Total pickup trips\", \"orientation\": \"horizontal\"}\n",
    ")\n",
    "\n",
    "\n",
    "ax.set_title(\"NYC Taxi Pickups by Zone\", fontsize=16, pad=15)\n",
    "ax.axis(\"off\")                          # hide x-/y-axes\n",
    "plt.tight_layout()\n",
    "plt.show()\n"
   ]
  },
  {
   "cell_type": "code",
   "execution_count": 1019,
   "metadata": {
    "id": "gwDs7OaBSopP"
   },
   "outputs": [
    {
     "data": {
      "text/html": [
       "<div>\n",
       "<style scoped>\n",
       "    .dataframe tbody tr th:only-of-type {\n",
       "        vertical-align: middle;\n",
       "    }\n",
       "\n",
       "    .dataframe tbody tr th {\n",
       "        vertical-align: top;\n",
       "    }\n",
       "\n",
       "    .dataframe thead th {\n",
       "        text-align: right;\n",
       "    }\n",
       "</style>\n",
       "<table border=\"1\" class=\"dataframe\">\n",
       "  <thead>\n",
       "    <tr style=\"text-align: right;\">\n",
       "      <th></th>\n",
       "      <th>OBJECTID</th>\n",
       "      <th>Shape_Leng</th>\n",
       "      <th>Shape_Area</th>\n",
       "      <th>zone</th>\n",
       "      <th>LocationID</th>\n",
       "      <th>borough</th>\n",
       "      <th>geometry</th>\n",
       "      <th>PULocationID</th>\n",
       "      <th>trips</th>\n",
       "    </tr>\n",
       "  </thead>\n",
       "  <tbody>\n",
       "    <tr>\n",
       "      <th>133</th>\n",
       "      <td>132</td>\n",
       "      <td>0.245479</td>\n",
       "      <td>0.002038</td>\n",
       "      <td>JFK Airport</td>\n",
       "      <td>132</td>\n",
       "      <td>Queens</td>\n",
       "      <td>MULTIPOLYGON (((1032791.001 181085.006, 103283...</td>\n",
       "      <td>132.0</td>\n",
       "      <td>1890300</td>\n",
       "    </tr>\n",
       "    <tr>\n",
       "      <th>238</th>\n",
       "      <td>237</td>\n",
       "      <td>0.042213</td>\n",
       "      <td>0.000096</td>\n",
       "      <td>Upper East Side South</td>\n",
       "      <td>237</td>\n",
       "      <td>Manhattan</td>\n",
       "      <td>POLYGON ((993633.442 216961.016, 993507.232 21...</td>\n",
       "      <td>237.0</td>\n",
       "      <td>1726300</td>\n",
       "    </tr>\n",
       "    <tr>\n",
       "      <th>162</th>\n",
       "      <td>161</td>\n",
       "      <td>0.035804</td>\n",
       "      <td>0.000072</td>\n",
       "      <td>Midtown Center</td>\n",
       "      <td>161</td>\n",
       "      <td>Manhattan</td>\n",
       "      <td>POLYGON ((991081.026 214453.698, 990952.644 21...</td>\n",
       "      <td>161.0</td>\n",
       "      <td>1702900</td>\n",
       "    </tr>\n",
       "    <tr>\n",
       "      <th>237</th>\n",
       "      <td>236</td>\n",
       "      <td>0.044252</td>\n",
       "      <td>0.000103</td>\n",
       "      <td>Upper East Side North</td>\n",
       "      <td>236</td>\n",
       "      <td>Manhattan</td>\n",
       "      <td>POLYGON ((995940.048 221122.92, 995812.322 220...</td>\n",
       "      <td>236.0</td>\n",
       "      <td>1544200</td>\n",
       "    </tr>\n",
       "    <tr>\n",
       "      <th>163</th>\n",
       "      <td>162</td>\n",
       "      <td>0.035270</td>\n",
       "      <td>0.000048</td>\n",
       "      <td>Midtown East</td>\n",
       "      <td>162</td>\n",
       "      <td>Manhattan</td>\n",
       "      <td>POLYGON ((992224.354 214415.293, 992096.999 21...</td>\n",
       "      <td>162.0</td>\n",
       "      <td>1314000</td>\n",
       "    </tr>\n",
       "    <tr>\n",
       "      <th>...</th>\n",
       "      <td>...</td>\n",
       "      <td>...</td>\n",
       "      <td>...</td>\n",
       "      <td>...</td>\n",
       "      <td>...</td>\n",
       "      <td>...</td>\n",
       "      <td>...</td>\n",
       "      <td>...</td>\n",
       "      <td>...</td>\n",
       "    </tr>\n",
       "    <tr>\n",
       "      <th>200</th>\n",
       "      <td>199</td>\n",
       "      <td>0.077809</td>\n",
       "      <td>0.000289</td>\n",
       "      <td>Rikers Island</td>\n",
       "      <td>199</td>\n",
       "      <td>Bronx</td>\n",
       "      <td>POLYGON ((1015023.713 230286.759, 1015093.307 ...</td>\n",
       "      <td>NaN</td>\n",
       "      <td>0</td>\n",
       "    </tr>\n",
       "    <tr>\n",
       "      <th>26</th>\n",
       "      <td>27</td>\n",
       "      <td>0.202509</td>\n",
       "      <td>0.001341</td>\n",
       "      <td>Breezy Point/Fort Tilden/Riis Beach</td>\n",
       "      <td>27</td>\n",
       "      <td>Queens</td>\n",
       "      <td>POLYGON ((1021692.969 147138.664, 1021883.624 ...</td>\n",
       "      <td>NaN</td>\n",
       "      <td>0</td>\n",
       "    </tr>\n",
       "    <tr>\n",
       "      <th>222</th>\n",
       "      <td>221</td>\n",
       "      <td>0.166218</td>\n",
       "      <td>0.000890</td>\n",
       "      <td>Stapleton</td>\n",
       "      <td>221</td>\n",
       "      <td>Staten Island</td>\n",
       "      <td>POLYGON ((963349.728 171627.581, 963397.759 17...</td>\n",
       "      <td>NaN</td>\n",
       "      <td>0</td>\n",
       "    </tr>\n",
       "    <tr>\n",
       "      <th>29</th>\n",
       "      <td>30</td>\n",
       "      <td>0.094510</td>\n",
       "      <td>0.000146</td>\n",
       "      <td>Broad Channel</td>\n",
       "      <td>30</td>\n",
       "      <td>Queens</td>\n",
       "      <td>POLYGON ((1034013.272 163473.152, 1034866.459 ...</td>\n",
       "      <td>NaN</td>\n",
       "      <td>0</td>\n",
       "    </tr>\n",
       "    <tr>\n",
       "      <th>1</th>\n",
       "      <td>2</td>\n",
       "      <td>0.433470</td>\n",
       "      <td>0.004866</td>\n",
       "      <td>Jamaica Bay</td>\n",
       "      <td>2</td>\n",
       "      <td>Queens</td>\n",
       "      <td>MULTIPOLYGON (((1033269.244 172126.008, 103343...</td>\n",
       "      <td>NaN</td>\n",
       "      <td>0</td>\n",
       "    </tr>\n",
       "  </tbody>\n",
       "</table>\n",
       "<p>265 rows × 9 columns</p>\n",
       "</div>"
      ],
      "text/plain": [
       "     OBJECTID  Shape_Leng  Shape_Area                                 zone  \\\n",
       "133       132    0.245479    0.002038                          JFK Airport   \n",
       "238       237    0.042213    0.000096                Upper East Side South   \n",
       "162       161    0.035804    0.000072                       Midtown Center   \n",
       "237       236    0.044252    0.000103                Upper East Side North   \n",
       "163       162    0.035270    0.000048                         Midtown East   \n",
       "..        ...         ...         ...                                  ...   \n",
       "200       199    0.077809    0.000289                        Rikers Island   \n",
       "26         27    0.202509    0.001341  Breezy Point/Fort Tilden/Riis Beach   \n",
       "222       221    0.166218    0.000890                            Stapleton   \n",
       "29         30    0.094510    0.000146                        Broad Channel   \n",
       "1           2    0.433470    0.004866                          Jamaica Bay   \n",
       "\n",
       "     LocationID        borough  \\\n",
       "133         132         Queens   \n",
       "238         237      Manhattan   \n",
       "162         161      Manhattan   \n",
       "237         236      Manhattan   \n",
       "163         162      Manhattan   \n",
       "..          ...            ...   \n",
       "200         199          Bronx   \n",
       "26           27         Queens   \n",
       "222         221  Staten Island   \n",
       "29           30         Queens   \n",
       "1             2         Queens   \n",
       "\n",
       "                                              geometry  PULocationID    trips  \n",
       "133  MULTIPOLYGON (((1032791.001 181085.006, 103283...         132.0  1890300  \n",
       "238  POLYGON ((993633.442 216961.016, 993507.232 21...         237.0  1726300  \n",
       "162  POLYGON ((991081.026 214453.698, 990952.644 21...         161.0  1702900  \n",
       "237  POLYGON ((995940.048 221122.92, 995812.322 220...         236.0  1544200  \n",
       "163  POLYGON ((992224.354 214415.293, 992096.999 21...         162.0  1314000  \n",
       "..                                                 ...           ...      ...  \n",
       "200  POLYGON ((1015023.713 230286.759, 1015093.307 ...           NaN        0  \n",
       "26   POLYGON ((1021692.969 147138.664, 1021883.624 ...           NaN        0  \n",
       "222  POLYGON ((963349.728 171627.581, 963397.759 17...           NaN        0  \n",
       "29   POLYGON ((1034013.272 163473.152, 1034866.459 ...           NaN        0  \n",
       "1    MULTIPOLYGON (((1033269.244 172126.008, 103343...           NaN        0  \n",
       "\n",
       "[265 rows x 9 columns]"
      ]
     },
     "execution_count": 1019,
     "metadata": {},
     "output_type": "execute_result"
    }
   ],
   "source": [
    "# can you try displaying the zones DF sorted by the number of trips?\n",
    "# Sort the GeoDataFrame so the busiest zones appear first\n",
    "zones_sorted = zones.sort_values(\"trips\", ascending=False)\n",
    "\n",
    "# Display the top 10 rows (remove .head(10) to show the full table)\n",
    "zones_sorted\n",
    "\n"
   ]
  },
  {
   "cell_type": "markdown",
   "metadata": {
    "id": "T1bE7-QbgSrZ"
   },
   "source": [
    "Here we have completed the temporal, financial and geographical analysis on the trip records.\n",
    "\n",
    "**Compile your findings from general analysis below:**"
   ]
  },
  {
   "cell_type": "markdown",
   "metadata": {
    "id": "7YiVFIX3gcL3"
   },
   "source": [
    "You can consider the following points:\n",
    "\n",
    "* **Busiest hours, days and months:-**  Hour:- 6pm, \n",
    "                                        Day of the Week:- Thursday,\n",
    "                                        Month:- May,\n",
    "\n",
    "* **Trends in revenue collected:-** The months of October and May have the highest revenue\n",
    "\n",
    "* **Trends in quarterly revenue:-** Q2 and Q4 get the highest revenue at about 26.8%\n",
    "\n",
    "* **How fare depends on trip distance, trip duration and passenger counts:-** trip distance and trip duration have a linear relationship with fare while passenger counts do not affect fares at all.\n",
    "\n",
    "* **How tip amount depends on trip distance:-** Tip amount certainly increases based on trip distance but correlation isn't high.\n",
    "\n",
    "* **Busiest zones:-** The 5 busiest zones (in order) are:- JFK Airport, Upper East Side South, Midtown Center, Upper East Side North, and Midtown east.\n"
   ]
  },
  {
   "cell_type": "markdown",
   "metadata": {
    "id": "Rv0oYLcbhOTU"
   },
   "source": [
    "#### **3.2** Detailed EDA: Insights and Strategies\n",
    "<font color = red>[50 marks]</font> <br>"
   ]
  },
  {
   "cell_type": "markdown",
   "metadata": {
    "id": "xWJk-CGihnU1"
   },
   "source": [
    "Having performed basic analyses for finding trends and patterns, we will now move on to some detailed analysis focussed on operational efficiency, pricing strategies, and customer experience."
   ]
  },
  {
   "cell_type": "markdown",
   "metadata": {
    "id": "XBY2Y4Jrz9IQ"
   },
   "source": [
    "##### Operational Efficiency"
   ]
  },
  {
   "cell_type": "markdown",
   "metadata": {
    "id": "BXU8Q3sGjGnE"
   },
   "source": [
    "Analyze variations by time of day and location to identify bottlenecks or inefficiencies in routes"
   ]
  },
  {
   "cell_type": "markdown",
   "metadata": {
    "id": "H97VPqVdq7Lz"
   },
   "source": [
    "**3.2.1** <font color = red>[3 marks]</font> <br>\n",
    "Identify slow routes by calculating the average time taken by cabs to get from one zone to another at different hours of the day."
   ]
  },
  {
   "cell_type": "markdown",
   "metadata": {
    "id": "NzTRZyw2q9IR"
   },
   "source": [
    "Speed on a route *X* for hour *Y* = (*distance of the route X / average trip duration for hour Y*)"
   ]
  },
  {
   "cell_type": "code",
   "execution_count": null,
   "metadata": {
    "id": "Ovf-1vIyhk7E"
   },
   "outputs": [],
   "source": [
    "# Find routes which have the slowest speeds at different times of the day\n",
    "\n"
   ]
  },
  {
   "cell_type": "markdown",
   "metadata": {
    "id": "NmRPbH3rm2Ub"
   },
   "source": [
    "How does identifying high-traffic, high-demand routes help us?"
   ]
  },
  {
   "cell_type": "markdown",
   "metadata": {
    "id": "7-w-OCB_nLmb"
   },
   "source": [
    "**3.2.2** <font color = red>[3 marks]</font> <br>\n",
    "Calculate the number of trips at each hour of the day and visualise them. Find the busiest hour and show the number of trips for that hour."
   ]
  },
  {
   "cell_type": "code",
   "execution_count": null,
   "metadata": {
    "id": "BEbRCT31nLUw"
   },
   "outputs": [],
   "source": [
    "# Visualise the number of trips per hour and find the busiest hour\n",
    "\n"
   ]
  },
  {
   "cell_type": "markdown",
   "metadata": {
    "id": "8FuSAA0zn3F4"
   },
   "source": [
    "Remember, we took a fraction of trips. To find the actual number, you have to scale the number up by the sampling ratio."
   ]
  },
  {
   "cell_type": "markdown",
   "metadata": {
    "id": "bapn075QrKaz"
   },
   "source": [
    "**3.2.3** <font color = red>[2 mark]</font> <br>\n",
    "Find the actual number of trips in the five busiest hours"
   ]
  },
  {
   "cell_type": "code",
   "execution_count": null,
   "metadata": {
    "id": "79Hy-YWOoapQ"
   },
   "outputs": [],
   "source": [
    "# Scale up the number of trips\n",
    "\n",
    "# Fill in the value of your sampling fraction and use that to scale up the numbers\n",
    "sample_fraction =\n",
    "\n"
   ]
  },
  {
   "cell_type": "markdown",
   "metadata": {
    "id": "74fhoLxEoaTP"
   },
   "source": [
    "**3.2.4** <font color = red>[3 marks]</font> <br>\n",
    "Compare hourly traffic pattern on weekdays. Also compare for weekend."
   ]
  },
  {
   "cell_type": "code",
   "execution_count": null,
   "metadata": {
    "id": "sYMmCQHwpFRY"
   },
   "outputs": [],
   "source": [
    "# Compare traffic trends for the week days and weekends\n",
    "\n"
   ]
  },
  {
   "cell_type": "markdown",
   "metadata": {
    "id": "tWeuAulNpSOL"
   },
   "source": [
    "What can you infer from the above patterns? How will finding busy and quiet hours for each day help us?"
   ]
  },
  {
   "cell_type": "markdown",
   "metadata": {
    "id": "-S90VG94rGUm"
   },
   "source": [
    "**3.2.5** <font color = red>[3 marks]</font> <br>\n",
    "Identify top 10 zones with high hourly pickups. Do the same for hourly dropoffs. Show pickup and dropoff trends in these zones."
   ]
  },
  {
   "cell_type": "code",
   "execution_count": null,
   "metadata": {
    "id": "-nJGifJFrslP"
   },
   "outputs": [],
   "source": [
    "# Find top 10 pickup and dropoff zones\n",
    "\n"
   ]
  },
  {
   "cell_type": "markdown",
   "metadata": {
    "id": "okkQ17VssMqP"
   },
   "source": [
    "**3.2.6** <font color = red>[3 marks]</font> <br>\n",
    "Find the ratio of pickups and dropoffs in each zone. Display the 10 highest (pickup/drop) and 10 lowest (pickup/drop) ratios."
   ]
  },
  {
   "cell_type": "code",
   "execution_count": null,
   "metadata": {
    "id": "Qbuc8y-KgeDR"
   },
   "outputs": [],
   "source": [
    "# Find the top 10 and bottom 10 pickup/dropoff ratios\n",
    "\n"
   ]
  },
  {
   "cell_type": "markdown",
   "metadata": {
    "id": "2j1ukv-rrxny"
   },
   "source": [
    "**3.2.7** <font color = red>[3 marks]</font> <br>\n",
    "Identify zones with high pickup and dropoff traffic during night hours (11PM to 5AM)"
   ]
  },
  {
   "cell_type": "code",
   "execution_count": null,
   "metadata": {
    "id": "ve65f0GltyE_"
   },
   "outputs": [],
   "source": [
    "# During night hours (11pm to 5am) find the top 10 pickup and dropoff zones\n",
    "# Note that the top zones should be of night hours and not the overall top zones\n",
    "\n"
   ]
  },
  {
   "cell_type": "markdown",
   "metadata": {
    "id": "OtPTHyhTNnNL"
   },
   "source": [
    "Now, let us find the revenue share for the night time hours and the day time hours. After this, we will move to deciding a pricing strategy.\n",
    "\n",
    "**3.2.8** <font color = red>[2 marks]</font> <br>\n",
    "Find the revenue share for nighttime and daytime hours."
   ]
  },
  {
   "cell_type": "code",
   "execution_count": null,
   "metadata": {
    "id": "0ohk4curNl3g"
   },
   "outputs": [],
   "source": [
    "# Filter for night hours (11 PM to 5 AM)\n",
    "\n"
   ]
  },
  {
   "cell_type": "markdown",
   "metadata": {
    "id": "nG77smP4tyWu"
   },
   "source": [
    "##### Pricing Strategy"
   ]
  },
  {
   "cell_type": "markdown",
   "metadata": {
    "id": "ciF6eThit5IH"
   },
   "source": [
    "**3.2.9** <font color = red>[2 marks]</font> <br>\n",
    "For the different passenger counts, find the average fare per mile per passenger.\n",
    "\n",
    "For instance, suppose the average fare per mile for trips with 3 passengers is 3 USD/mile, then the fare per mile per passenger will be 1 USD/mile."
   ]
  },
  {
   "cell_type": "code",
   "execution_count": null,
   "metadata": {
    "id": "AO7MIuXd9C16"
   },
   "outputs": [],
   "source": [
    "# Analyse the fare per mile per passenger for different passenger counts\n",
    "\n",
    "\n"
   ]
  },
  {
   "cell_type": "markdown",
   "metadata": {
    "id": "WZrN-cxR9DIb"
   },
   "source": [
    "**3.2.10** <font color = red>[3 marks]</font> <br>\n",
    "Find the average fare per mile by hours of the day and by days of the week"
   ]
  },
  {
   "cell_type": "code",
   "execution_count": null,
   "metadata": {
    "id": "hUzCJm2y9SOq"
   },
   "outputs": [],
   "source": [
    "# Compare the average fare per mile for different days and for different times of the day\n",
    "\n"
   ]
  },
  {
   "cell_type": "markdown",
   "metadata": {
    "id": "211WFkhHDUMG"
   },
   "source": [
    "**3.2.11** <font color = red>[3 marks]</font> <br>\n",
    "Analyse the average fare per mile for the different vendors for different hours of the day"
   ]
  },
  {
   "cell_type": "code",
   "execution_count": null,
   "metadata": {
    "id": "my3cGHL1DU04"
   },
   "outputs": [],
   "source": [
    "# Compare fare per mile for different vendors\n",
    "\n"
   ]
  },
  {
   "cell_type": "markdown",
   "metadata": {
    "id": "FH9YJdodtDk4"
   },
   "source": [
    "**3.2.12** <font color = red>[5 marks]</font> <br>\n",
    "Compare the fare rates of the different vendors in a tiered fashion. Analyse the average fare per mile for distances upto 2 miles. Analyse the fare per mile for distances from 2 to 5 miles. And then for distances more than 5 miles.\n"
   ]
  },
  {
   "cell_type": "code",
   "execution_count": null,
   "metadata": {
    "id": "TFRPgO7mgEeT"
   },
   "outputs": [],
   "source": [
    "# Defining distance tiers\n",
    "\n"
   ]
  },
  {
   "cell_type": "markdown",
   "metadata": {
    "id": "M2o6xY0Yh6Gv"
   },
   "source": [
    "##### Customer Experience and Other Factors"
   ]
  },
  {
   "cell_type": "markdown",
   "metadata": {
    "id": "VSneN-rCh6Gw"
   },
   "source": [
    "**3.2.13** <font color = red>[5 marks]</font> <br>\n",
    "Analyse average tip percentages based on trip distances, passenger counts and time of pickup. What factors lead to low tip percentages?"
   ]
  },
  {
   "cell_type": "code",
   "execution_count": null,
   "metadata": {
    "id": "LO5WazK8h6Gx"
   },
   "outputs": [],
   "source": [
    "#  Analyze tip percentages based on distances, passenger counts and pickup times\n",
    "\n"
   ]
  },
  {
   "cell_type": "markdown",
   "metadata": {
    "id": "wQAIQsrcLm6X"
   },
   "source": [
    "Additional analysis [optional]: Let's try comparing cases of low tips with cases of high tips to find out if we find a clear aspect that drives up the tipping behaviours"
   ]
  },
  {
   "cell_type": "code",
   "execution_count": null,
   "metadata": {
    "collapsed": true,
    "id": "QYoUed6Dn6YW"
   },
   "outputs": [],
   "source": [
    "# Compare trips with tip percentage < 10% to trips with tip percentage > 25%\n",
    "\n"
   ]
  },
  {
   "cell_type": "markdown",
   "metadata": {
    "id": "0UjvGTRKh6Gx"
   },
   "source": [
    "**3.2.14** <font color = red>[3 marks]</font> <br>\n",
    "Analyse the variation of passenger count across hours and days of the week."
   ]
  },
  {
   "cell_type": "code",
   "execution_count": null,
   "metadata": {
    "id": "rFP0DNRvh6Gx"
   },
   "outputs": [],
   "source": [
    "# See how passenger count varies across hours and days\n",
    "\n",
    "\n"
   ]
  },
  {
   "cell_type": "markdown",
   "metadata": {
    "id": "zWKLLlb7h6Gy"
   },
   "source": [
    "**3.2.15** <font color = red>[2 marks]</font> <br>\n",
    "Analyse the variation of passenger counts across zones"
   ]
  },
  {
   "cell_type": "code",
   "execution_count": null,
   "metadata": {
    "id": "30h27Uz2h6Gy"
   },
   "outputs": [],
   "source": [
    "# How does passenger count vary across zones\n",
    "\n"
   ]
  },
  {
   "cell_type": "code",
   "execution_count": null,
   "metadata": {
    "id": "C3I0AfOkvBWA"
   },
   "outputs": [],
   "source": [
    "# For a more detailed analysis, we can use the zones_with_trips GeoDataFrame\n",
    "# Create a new column for the average passenger count in each zone.\n",
    "\n"
   ]
  },
  {
   "cell_type": "markdown",
   "metadata": {
    "id": "rw0j5Z-1h6Gz"
   },
   "source": [
    "Find out how often surcharges/extra charges are applied to understand their prevalance"
   ]
  },
  {
   "cell_type": "markdown",
   "metadata": {
    "id": "x9IHjHFBx6Ye"
   },
   "source": [
    "**3.2.16** <font color = red>[5 marks]</font> <br>\n",
    "Analyse the pickup/dropoff zones or times when extra charges are applied more frequently"
   ]
  },
  {
   "cell_type": "code",
   "execution_count": null,
   "metadata": {
    "id": "nKbXwZJwh6Gz"
   },
   "outputs": [],
   "source": [
    "# How often is each surcharge applied?\n",
    "\n"
   ]
  },
  {
   "cell_type": "markdown",
   "metadata": {
    "id": "bkyc9q40Cts-"
   },
   "source": [
    "## **4** Conclusion\n",
    "<font color = red>[15 marks]</font> <br>"
   ]
  },
  {
   "cell_type": "markdown",
   "metadata": {
    "id": "Z5yCODI-C6yR"
   },
   "source": [
    "### **4.1** Final Insights and Recommendations\n",
    "<font color = red>[15 marks]</font> <br>\n",
    "\n",
    "Conclude your analyses here. Include all the outcomes you found based on the analysis.\n",
    "\n",
    "Based on the insights, frame a concluding story explaining suitable parameters such as location, time of the day, day of the week etc. to be kept in mind while devising a strategy to meet customer demand and optimise supply."
   ]
  },
  {
   "cell_type": "markdown",
   "metadata": {
    "id": "0dy8J-C8jJjk"
   },
   "source": [
    "**4.1.1** <font color = red>[5 marks]</font> <br>\n",
    "Recommendations to optimize routing and dispatching based on demand patterns and operational inefficiencies"
   ]
  },
  {
   "cell_type": "code",
   "execution_count": null,
   "metadata": {
    "id": "J03px17x_rD9"
   },
   "outputs": [],
   "source": []
  },
  {
   "cell_type": "markdown",
   "metadata": {
    "id": "AaLgTWxpjt7h"
   },
   "source": [
    "**4.1.2** <font color = red>[5 marks]</font> <br>\n",
    "\n",
    "Suggestions on strategically positioning cabs across different zones to make best use of insights uncovered by analysing trip trends across time, days and months."
   ]
  },
  {
   "cell_type": "code",
   "execution_count": null,
   "metadata": {
    "id": "c8ZbTIF7_rsN"
   },
   "outputs": [],
   "source": []
  },
  {
   "cell_type": "markdown",
   "metadata": {
    "id": "mUU4mn50jMZy"
   },
   "source": [
    "**4.1.3** <font color = red>[5 marks]</font> <br>\n",
    "Propose data-driven adjustments to the pricing strategy to maximize revenue while maintaining competitive rates with other vendors."
   ]
  },
  {
   "cell_type": "code",
   "execution_count": null,
   "metadata": {
    "id": "SXErHFjx_sGN"
   },
   "outputs": [],
   "source": []
  }
 ],
 "metadata": {
  "colab": {
   "collapsed_sections": [
    "-OVfUMlHFkZD",
    "0eaCZjHIvfuI",
    "Kw-WRzBfyS7j",
    "nM2X-s6lycvQ",
    "NgHgbPIepaYl",
    "QaOS3H9izZ0N",
    "HZvPSwJx0S3K",
    "x2hakCCy6wXI",
    "2jyQyYIpCztl",
    "gPpJyFFNffcL",
    "a4N3PvkSTwcN",
    "MbGMjArkiXjL",
    "23IqsgNjHNpJ",
    "CVXxcSYHj9sh",
    "Rv0oYLcbhOTU",
    "XBY2Y4Jrz9IQ",
    "nG77smP4tyWu",
    "M2o6xY0Yh6Gv",
    "bkyc9q40Cts-",
    "Z5yCODI-C6yR"
   ],
   "provenance": [
    {
     "file_id": "1PvYLECban8pmD-aFGV_yoRF2PyRwLntw",
     "timestamp": 1737110016234
    },
    {
     "file_id": "1jppXTxMvUcVsY27R_ckdE5DAnxrROUY1",
     "timestamp": 1732620370544
    }
   ],
   "toc_visible": true
  },
  "kernelspec": {
   "display_name": "Python 3",
   "name": "python3"
  },
  "language_info": {
   "codemirror_mode": {
    "name": "ipython",
    "version": 3
   },
   "file_extension": ".py",
   "mimetype": "text/x-python",
   "name": "python",
   "nbconvert_exporter": "python",
   "pygments_lexer": "ipython3",
   "version": "3.13.2"
  }
 },
 "nbformat": 4,
 "nbformat_minor": 0
}
